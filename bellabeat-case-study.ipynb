{
 "cells": [
  {
   "cell_type": "markdown",
   "id": "3b0806f7",
   "metadata": {
    "papermill": {
     "duration": 0.083672,
     "end_time": "2022-04-16T16:55:35.337706",
     "exception": false,
     "start_time": "2022-04-16T16:55:35.254034",
     "status": "completed"
    },
    "tags": []
   },
   "source": [
    "# <span style=\"color:#FE8F77\"> Case Study 2: Bella Beat</span>\n",
    "<img src=\"https://res.cloudinary.com/crunchbase-production/image/upload/c_lpad,h_170,w_170,f_auto,b_white,q_auto:eco,dpr_1/ga1vgrba7lqvckao7pwn\" align=\"right\">\n",
    "## <span style=\"color:#FE8F77\"> Table of Contents </span>\n",
    "\n",
    "* [Overview](#overview)\n",
    "* [Objectives](#objectives)\n",
    "* [Ask](#ask)\n",
    "* [Prepare](#prepare)\n",
    "* [Process](#process)\n",
    "* [Analyse](#overview)\n",
    "* [Share](#share)\n",
    "* [Act](#act)\n",
    "\n",
    "## <span style=\"color:#FE8F77\">Overview</span><a class=\"anchor\" id=\"overview\"></a>\n",
    "\n",
    "Bellabeat is the go-to wellness brand for women with an ecosystem of products and services focused on women’s health.\n",
    "\n",
    "They develop wearables and accompanying products that monitor biometric and lifestyle data to help women better understand how their bodies work and make healthier choices.\n",
    "\n",
    "Below are few products of Bellabeat:\n",
    "\n",
    "  * **Bellabeat app:** The Bellabeat app provides users with health data related to their activity, sleep, stress, menstrual cycle, and mindfulness habits. This data can help users better understand their current habits and make healthy decisions. The Bellabeat app connects to their line of smart wellness products. \n",
    "  * **Leaf:** Bellabeat’s classic wellness tracker can be worn as a bracelet, necklace, or clip. The Leaf tracker connects to the Bellabeat app to track activity, sleep, and stress. \n",
    "  * **Time:** This wellness watch combines the timeless look of a classic timepiece with smart technology to track user activity, sleep, and stress. The Time watch connects to the Bellabeat app to provide you with insights into your daily wellness. \n",
    "  * **Spring:** This is a water bottle that tracks daily water intake using smart technology to ensure that you are appropriately hydrated throughout the day. The Spring bottle connects to the Bellabeat app to track your hydration levels.\n",
    "  * **Bellabeat membership:** Bellabeat also offers a subscription-based membership program for users. Membership gives users 24/7 access to fully personalized guidance on nutrition, activity, sleep, health and beauty, and mindfulness based on their lifestyle and goals.\n",
    "\n",
    "## <span style=\"color:#FE8F77\">Objectives</span><a class=\"anchor\" id=\"objectives\"></a>\n",
    "\n",
    "The main objectives of the capstone project are to answer key business questions by following the step-by-step data analytics process: ask, prepare, process, analyze, share and act. \n",
    "\n",
    "It is also important to determine if our process help to grow their business.\n",
    "\n",
    "## <span style=\"color:#FE8F77\">Ask</span><a class=\"anchor\" id=\"ask\"></a>\n",
    "\n",
    "The business task aimed at this project to find the trends in smart device usage and apply them in Bellabeat to help influencing their marketing strategy.\n",
    "\n",
    "Below are the key business questions that need to addressed as a result of our analysis:\n",
    "* 1. What are some trends in smart device usage?\n",
    "* 2. How could these trends apply to Bellabeat customers?\n",
    "* 3. How could these trends help influence Bellabeat marketing strategy?\n",
    "\n",
    "## <span style=\"color:#FE8F77\">Prepare</span><a class=\"anchor\" id=\"prepare\"></a>\n",
    "\n",
    "#### Data source\n",
    "\n",
    "The datasets used for this project is Fitbit Fitness Tracker data downloaded from Kaggle. There are 18 datasets containing records for 31 days (considering as an average menstrual period).  The main aim of the project is to analyse the fitness data based on steps, sleep and walking distance. Hence, the datasets that contain this information without duplicating others are selected for the analysis. The next preparation steps will help on getting closer to those data.\n",
    "\n",
    "#### Check for ROCCC\n",
    "\n",
    "ROCCC stands for Reliable, Original, Comprehensive, Current, Cited. It is essential to check if our data follows ROCCC to classify as good data because every good solution is found by avoiding bad data. Our case study does not follow complete ROCCC as they are outdated (not current), not sure if they represent a population as we don’t have a prominent demographics information (not reliable or original). However, as this is for a capstone project, we shall proceed with an analysis on this.\n",
    "\n",
    "### Organize, sort and filter\n",
    "\n",
    "In this stage of preparation, the datasets will be explored, organized, sorted and filtered for processing the data. The data will be explored using R programming from here for further process. R programming is used for ease of accessing, processing, manipulating and visualizing large datasets.\n",
    "\n",
    "Let us explore the daily datasets and filter only relevant ones."
   ]
  },
  {
   "cell_type": "markdown",
   "id": "d386da4f",
   "metadata": {
    "papermill": {
     "duration": 0.081355,
     "end_time": "2022-04-16T16:55:35.501028",
     "exception": false,
     "start_time": "2022-04-16T16:55:35.419673",
     "status": "completed"
    },
    "tags": []
   },
   "source": [
    "**Import Packages**"
   ]
  },
  {
   "cell_type": "code",
   "execution_count": 1,
   "id": "e95e2621",
   "metadata": {
    "execution": {
     "iopub.execute_input": "2022-04-16T16:55:35.671128Z",
     "iopub.status.busy": "2022-04-16T16:55:35.667980Z",
     "iopub.status.idle": "2022-04-16T16:56:16.623178Z",
     "shell.execute_reply": "2022-04-16T16:56:16.621807Z"
    },
    "papermill": {
     "duration": 41.041102,
     "end_time": "2022-04-16T16:56:16.623357",
     "exception": false,
     "start_time": "2022-04-16T16:55:35.582255",
     "status": "completed"
    },
    "tags": []
   },
   "outputs": [
    {
     "name": "stderr",
     "output_type": "stream",
     "text": [
      "Installing package into ‘/usr/local/lib/R/site-library’\n",
      "(as ‘lib’ is unspecified)\n",
      "\n",
      "Installing package into ‘/usr/local/lib/R/site-library’\n",
      "(as ‘lib’ is unspecified)\n",
      "\n"
     ]
    }
   ],
   "source": [
    "install.packages('tidyverse')\n",
    "install.packages('ggplot2')"
   ]
  },
  {
   "cell_type": "code",
   "execution_count": 2,
   "id": "0b175ed1",
   "metadata": {
    "execution": {
     "iopub.execute_input": "2022-04-16T16:56:16.831348Z",
     "iopub.status.busy": "2022-04-16T16:56:16.801098Z",
     "iopub.status.idle": "2022-04-16T16:56:17.552809Z",
     "shell.execute_reply": "2022-04-16T16:56:17.551683Z"
    },
    "papermill": {
     "duration": 0.841769,
     "end_time": "2022-04-16T16:56:17.552966",
     "exception": false,
     "start_time": "2022-04-16T16:56:16.711197",
     "status": "completed"
    },
    "tags": []
   },
   "outputs": [
    {
     "name": "stderr",
     "output_type": "stream",
     "text": [
      "── \u001b[1mAttaching packages\u001b[22m ─────────────────────────────────────── tidyverse 1.3.1 ──\n",
      "\n",
      "\u001b[32m✔\u001b[39m \u001b[34mggplot2\u001b[39m 3.3.5     \u001b[32m✔\u001b[39m \u001b[34mpurrr  \u001b[39m 0.3.4\n",
      "\u001b[32m✔\u001b[39m \u001b[34mtibble \u001b[39m 3.1.5     \u001b[32m✔\u001b[39m \u001b[34mdplyr  \u001b[39m 1.0.7\n",
      "\u001b[32m✔\u001b[39m \u001b[34mtidyr  \u001b[39m 1.1.4     \u001b[32m✔\u001b[39m \u001b[34mstringr\u001b[39m 1.4.0\n",
      "\u001b[32m✔\u001b[39m \u001b[34mreadr  \u001b[39m 2.0.2     \u001b[32m✔\u001b[39m \u001b[34mforcats\u001b[39m 0.5.1\n",
      "\n",
      "── \u001b[1mConflicts\u001b[22m ────────────────────────────────────────── tidyverse_conflicts() ──\n",
      "\u001b[31m✖\u001b[39m \u001b[34mdplyr\u001b[39m::\u001b[32mfilter()\u001b[39m masks \u001b[34mstats\u001b[39m::filter()\n",
      "\u001b[31m✖\u001b[39m \u001b[34mdplyr\u001b[39m::\u001b[32mlag()\u001b[39m    masks \u001b[34mstats\u001b[39m::lag()\n",
      "\n"
     ]
    }
   ],
   "source": [
    "library(tidyverse)\n",
    "library(ggplot2)\n",
    "library(arsenal)"
   ]
  },
  {
   "cell_type": "markdown",
   "id": "91481332",
   "metadata": {
    "papermill": {
     "duration": 0.087481,
     "end_time": "2022-04-16T16:56:17.726745",
     "exception": false,
     "start_time": "2022-04-16T16:56:17.639264",
     "status": "completed"
    },
    "tags": []
   },
   "source": [
    "**Import Datasets**"
   ]
  },
  {
   "cell_type": "code",
   "execution_count": 3,
   "id": "9132f3dc",
   "metadata": {
    "execution": {
     "iopub.execute_input": "2022-04-16T16:56:17.903702Z",
     "iopub.status.busy": "2022-04-16T16:56:17.902592Z",
     "iopub.status.idle": "2022-04-16T16:56:17.983278Z",
     "shell.execute_reply": "2022-04-16T16:56:17.981860Z"
    },
    "papermill": {
     "duration": 0.171169,
     "end_time": "2022-04-16T16:56:17.983485",
     "exception": false,
     "start_time": "2022-04-16T16:56:17.812316",
     "status": "completed"
    },
    "tags": []
   },
   "outputs": [],
   "source": [
    "daily_activity <- read.csv('../input/fitbit/Fitabase Data 4.12.16-5.12.16/dailyActivity_merged.csv')\n",
    "daily_calories <- read.csv('../input/fitbit/Fitabase Data 4.12.16-5.12.16/dailyCalories_merged.csv')\n",
    "daily_intensity <- read.csv('../input/fitbit/Fitabase Data 4.12.16-5.12.16/dailyIntensities_merged.csv')\n",
    "daily_steps <- read.csv('../input/fitbit/Fitabase Data 4.12.16-5.12.16/dailySteps_merged.csv')"
   ]
  },
  {
   "cell_type": "markdown",
   "id": "83921fce",
   "metadata": {
    "papermill": {
     "duration": 0.084117,
     "end_time": "2022-04-16T16:56:18.153937",
     "exception": false,
     "start_time": "2022-04-16T16:56:18.069820",
     "status": "completed"
    },
    "tags": []
   },
   "source": [
    "It is a good practice to view the actual data in each dataset. Let us explore the datasets, we have targetted for now."
   ]
  },
  {
   "cell_type": "code",
   "execution_count": 4,
   "id": "10fa7ebd",
   "metadata": {
    "execution": {
     "iopub.execute_input": "2022-04-16T16:56:18.328605Z",
     "iopub.status.busy": "2022-04-16T16:56:18.326787Z",
     "iopub.status.idle": "2022-04-16T16:56:18.355098Z",
     "shell.execute_reply": "2022-04-16T16:56:18.353596Z"
    },
    "papermill": {
     "duration": 0.11714,
     "end_time": "2022-04-16T16:56:18.355252",
     "exception": false,
     "start_time": "2022-04-16T16:56:18.238112",
     "status": "completed"
    },
    "tags": []
   },
   "outputs": [
    {
     "name": "stdout",
     "output_type": "stream",
     "text": [
      "Total records in Daily Activity:  940\n",
      "Total records in Daily Calories:  940\n",
      "Total records in Daily Intensity:  940\n",
      "Total records in Daily Steps:  940"
     ]
    }
   ],
   "source": [
    "cat(\"Total records in Daily Activity: \",nrow(daily_activity))\n",
    "cat(\"\\nTotal records in Daily Calories: \",nrow(daily_activity))\n",
    "cat(\"\\nTotal records in Daily Intensity: \",nrow(daily_activity))\n",
    "cat(\"\\nTotal records in Daily Steps: \",nrow(daily_activity))"
   ]
  },
  {
   "cell_type": "code",
   "execution_count": 5,
   "id": "f12a3b1a",
   "metadata": {
    "execution": {
     "iopub.execute_input": "2022-04-16T16:56:18.536253Z",
     "iopub.status.busy": "2022-04-16T16:56:18.534898Z",
     "iopub.status.idle": "2022-04-16T16:56:18.579678Z",
     "shell.execute_reply": "2022-04-16T16:56:18.578643Z"
    },
    "papermill": {
     "duration": 0.136234,
     "end_time": "2022-04-16T16:56:18.579822",
     "exception": false,
     "start_time": "2022-04-16T16:56:18.443588",
     "status": "completed"
    },
    "tags": []
   },
   "outputs": [
    {
     "data": {
      "text/html": [
       "<table class=\"dataframe\">\n",
       "<caption>A data.frame: 6 × 15</caption>\n",
       "<thead>\n",
       "\t<tr><th></th><th scope=col>Id</th><th scope=col>ActivityDate</th><th scope=col>TotalSteps</th><th scope=col>TotalDistance</th><th scope=col>TrackerDistance</th><th scope=col>LoggedActivitiesDistance</th><th scope=col>VeryActiveDistance</th><th scope=col>ModeratelyActiveDistance</th><th scope=col>LightActiveDistance</th><th scope=col>SedentaryActiveDistance</th><th scope=col>VeryActiveMinutes</th><th scope=col>FairlyActiveMinutes</th><th scope=col>LightlyActiveMinutes</th><th scope=col>SedentaryMinutes</th><th scope=col>Calories</th></tr>\n",
       "\t<tr><th></th><th scope=col>&lt;dbl&gt;</th><th scope=col>&lt;chr&gt;</th><th scope=col>&lt;int&gt;</th><th scope=col>&lt;dbl&gt;</th><th scope=col>&lt;dbl&gt;</th><th scope=col>&lt;dbl&gt;</th><th scope=col>&lt;dbl&gt;</th><th scope=col>&lt;dbl&gt;</th><th scope=col>&lt;dbl&gt;</th><th scope=col>&lt;dbl&gt;</th><th scope=col>&lt;int&gt;</th><th scope=col>&lt;int&gt;</th><th scope=col>&lt;int&gt;</th><th scope=col>&lt;int&gt;</th><th scope=col>&lt;int&gt;</th></tr>\n",
       "</thead>\n",
       "<tbody>\n",
       "\t<tr><th scope=row>1</th><td>1503960366</td><td>4/12/2016</td><td>13162</td><td>8.50</td><td>8.50</td><td>0</td><td>1.88</td><td>0.55</td><td>6.06</td><td>0</td><td>25</td><td>13</td><td>328</td><td> 728</td><td>1985</td></tr>\n",
       "\t<tr><th scope=row>2</th><td>1503960366</td><td>4/13/2016</td><td>10735</td><td>6.97</td><td>6.97</td><td>0</td><td>1.57</td><td>0.69</td><td>4.71</td><td>0</td><td>21</td><td>19</td><td>217</td><td> 776</td><td>1797</td></tr>\n",
       "\t<tr><th scope=row>3</th><td>1503960366</td><td>4/14/2016</td><td>10460</td><td>6.74</td><td>6.74</td><td>0</td><td>2.44</td><td>0.40</td><td>3.91</td><td>0</td><td>30</td><td>11</td><td>181</td><td>1218</td><td>1776</td></tr>\n",
       "\t<tr><th scope=row>4</th><td>1503960366</td><td>4/15/2016</td><td> 9762</td><td>6.28</td><td>6.28</td><td>0</td><td>2.14</td><td>1.26</td><td>2.83</td><td>0</td><td>29</td><td>34</td><td>209</td><td> 726</td><td>1745</td></tr>\n",
       "\t<tr><th scope=row>5</th><td>1503960366</td><td>4/16/2016</td><td>12669</td><td>8.16</td><td>8.16</td><td>0</td><td>2.71</td><td>0.41</td><td>5.04</td><td>0</td><td>36</td><td>10</td><td>221</td><td> 773</td><td>1863</td></tr>\n",
       "\t<tr><th scope=row>6</th><td>1503960366</td><td>4/17/2016</td><td> 9705</td><td>6.48</td><td>6.48</td><td>0</td><td>3.19</td><td>0.78</td><td>2.51</td><td>0</td><td>38</td><td>20</td><td>164</td><td> 539</td><td>1728</td></tr>\n",
       "</tbody>\n",
       "</table>\n"
      ],
      "text/latex": [
       "A data.frame: 6 × 15\n",
       "\\begin{tabular}{r|lllllllllllllll}\n",
       "  & Id & ActivityDate & TotalSteps & TotalDistance & TrackerDistance & LoggedActivitiesDistance & VeryActiveDistance & ModeratelyActiveDistance & LightActiveDistance & SedentaryActiveDistance & VeryActiveMinutes & FairlyActiveMinutes & LightlyActiveMinutes & SedentaryMinutes & Calories\\\\\n",
       "  & <dbl> & <chr> & <int> & <dbl> & <dbl> & <dbl> & <dbl> & <dbl> & <dbl> & <dbl> & <int> & <int> & <int> & <int> & <int>\\\\\n",
       "\\hline\n",
       "\t1 & 1503960366 & 4/12/2016 & 13162 & 8.50 & 8.50 & 0 & 1.88 & 0.55 & 6.06 & 0 & 25 & 13 & 328 &  728 & 1985\\\\\n",
       "\t2 & 1503960366 & 4/13/2016 & 10735 & 6.97 & 6.97 & 0 & 1.57 & 0.69 & 4.71 & 0 & 21 & 19 & 217 &  776 & 1797\\\\\n",
       "\t3 & 1503960366 & 4/14/2016 & 10460 & 6.74 & 6.74 & 0 & 2.44 & 0.40 & 3.91 & 0 & 30 & 11 & 181 & 1218 & 1776\\\\\n",
       "\t4 & 1503960366 & 4/15/2016 &  9762 & 6.28 & 6.28 & 0 & 2.14 & 1.26 & 2.83 & 0 & 29 & 34 & 209 &  726 & 1745\\\\\n",
       "\t5 & 1503960366 & 4/16/2016 & 12669 & 8.16 & 8.16 & 0 & 2.71 & 0.41 & 5.04 & 0 & 36 & 10 & 221 &  773 & 1863\\\\\n",
       "\t6 & 1503960366 & 4/17/2016 &  9705 & 6.48 & 6.48 & 0 & 3.19 & 0.78 & 2.51 & 0 & 38 & 20 & 164 &  539 & 1728\\\\\n",
       "\\end{tabular}\n"
      ],
      "text/markdown": [
       "\n",
       "A data.frame: 6 × 15\n",
       "\n",
       "| <!--/--> | Id &lt;dbl&gt; | ActivityDate &lt;chr&gt; | TotalSteps &lt;int&gt; | TotalDistance &lt;dbl&gt; | TrackerDistance &lt;dbl&gt; | LoggedActivitiesDistance &lt;dbl&gt; | VeryActiveDistance &lt;dbl&gt; | ModeratelyActiveDistance &lt;dbl&gt; | LightActiveDistance &lt;dbl&gt; | SedentaryActiveDistance &lt;dbl&gt; | VeryActiveMinutes &lt;int&gt; | FairlyActiveMinutes &lt;int&gt; | LightlyActiveMinutes &lt;int&gt; | SedentaryMinutes &lt;int&gt; | Calories &lt;int&gt; |\n",
       "|---|---|---|---|---|---|---|---|---|---|---|---|---|---|---|---|\n",
       "| 1 | 1503960366 | 4/12/2016 | 13162 | 8.50 | 8.50 | 0 | 1.88 | 0.55 | 6.06 | 0 | 25 | 13 | 328 |  728 | 1985 |\n",
       "| 2 | 1503960366 | 4/13/2016 | 10735 | 6.97 | 6.97 | 0 | 1.57 | 0.69 | 4.71 | 0 | 21 | 19 | 217 |  776 | 1797 |\n",
       "| 3 | 1503960366 | 4/14/2016 | 10460 | 6.74 | 6.74 | 0 | 2.44 | 0.40 | 3.91 | 0 | 30 | 11 | 181 | 1218 | 1776 |\n",
       "| 4 | 1503960366 | 4/15/2016 |  9762 | 6.28 | 6.28 | 0 | 2.14 | 1.26 | 2.83 | 0 | 29 | 34 | 209 |  726 | 1745 |\n",
       "| 5 | 1503960366 | 4/16/2016 | 12669 | 8.16 | 8.16 | 0 | 2.71 | 0.41 | 5.04 | 0 | 36 | 10 | 221 |  773 | 1863 |\n",
       "| 6 | 1503960366 | 4/17/2016 |  9705 | 6.48 | 6.48 | 0 | 3.19 | 0.78 | 2.51 | 0 | 38 | 20 | 164 |  539 | 1728 |\n",
       "\n"
      ],
      "text/plain": [
       "  Id         ActivityDate TotalSteps TotalDistance TrackerDistance\n",
       "1 1503960366 4/12/2016    13162      8.50          8.50           \n",
       "2 1503960366 4/13/2016    10735      6.97          6.97           \n",
       "3 1503960366 4/14/2016    10460      6.74          6.74           \n",
       "4 1503960366 4/15/2016     9762      6.28          6.28           \n",
       "5 1503960366 4/16/2016    12669      8.16          8.16           \n",
       "6 1503960366 4/17/2016     9705      6.48          6.48           \n",
       "  LoggedActivitiesDistance VeryActiveDistance ModeratelyActiveDistance\n",
       "1 0                        1.88               0.55                    \n",
       "2 0                        1.57               0.69                    \n",
       "3 0                        2.44               0.40                    \n",
       "4 0                        2.14               1.26                    \n",
       "5 0                        2.71               0.41                    \n",
       "6 0                        3.19               0.78                    \n",
       "  LightActiveDistance SedentaryActiveDistance VeryActiveMinutes\n",
       "1 6.06                0                       25               \n",
       "2 4.71                0                       21               \n",
       "3 3.91                0                       30               \n",
       "4 2.83                0                       29               \n",
       "5 5.04                0                       36               \n",
       "6 2.51                0                       38               \n",
       "  FairlyActiveMinutes LightlyActiveMinutes SedentaryMinutes Calories\n",
       "1 13                  328                   728             1985    \n",
       "2 19                  217                   776             1797    \n",
       "3 11                  181                  1218             1776    \n",
       "4 34                  209                   726             1745    \n",
       "5 10                  221                   773             1863    \n",
       "6 20                  164                   539             1728    "
      ]
     },
     "metadata": {},
     "output_type": "display_data"
    }
   ],
   "source": [
    "head(daily_activity)"
   ]
  },
  {
   "cell_type": "code",
   "execution_count": 6,
   "id": "3eb7f14b",
   "metadata": {
    "execution": {
     "iopub.execute_input": "2022-04-16T16:56:18.767745Z",
     "iopub.status.busy": "2022-04-16T16:56:18.766420Z",
     "iopub.status.idle": "2022-04-16T16:56:18.789028Z",
     "shell.execute_reply": "2022-04-16T16:56:18.787620Z"
    },
    "papermill": {
     "duration": 0.119167,
     "end_time": "2022-04-16T16:56:18.789170",
     "exception": false,
     "start_time": "2022-04-16T16:56:18.670003",
     "status": "completed"
    },
    "tags": []
   },
   "outputs": [
    {
     "data": {
      "text/html": [
       "<table class=\"dataframe\">\n",
       "<caption>A data.frame: 6 × 3</caption>\n",
       "<thead>\n",
       "\t<tr><th></th><th scope=col>Id</th><th scope=col>ActivityDay</th><th scope=col>Calories</th></tr>\n",
       "\t<tr><th></th><th scope=col>&lt;dbl&gt;</th><th scope=col>&lt;chr&gt;</th><th scope=col>&lt;int&gt;</th></tr>\n",
       "</thead>\n",
       "<tbody>\n",
       "\t<tr><th scope=row>1</th><td>1503960366</td><td>4/12/2016</td><td>1985</td></tr>\n",
       "\t<tr><th scope=row>2</th><td>1503960366</td><td>4/13/2016</td><td>1797</td></tr>\n",
       "\t<tr><th scope=row>3</th><td>1503960366</td><td>4/14/2016</td><td>1776</td></tr>\n",
       "\t<tr><th scope=row>4</th><td>1503960366</td><td>4/15/2016</td><td>1745</td></tr>\n",
       "\t<tr><th scope=row>5</th><td>1503960366</td><td>4/16/2016</td><td>1863</td></tr>\n",
       "\t<tr><th scope=row>6</th><td>1503960366</td><td>4/17/2016</td><td>1728</td></tr>\n",
       "</tbody>\n",
       "</table>\n"
      ],
      "text/latex": [
       "A data.frame: 6 × 3\n",
       "\\begin{tabular}{r|lll}\n",
       "  & Id & ActivityDay & Calories\\\\\n",
       "  & <dbl> & <chr> & <int>\\\\\n",
       "\\hline\n",
       "\t1 & 1503960366 & 4/12/2016 & 1985\\\\\n",
       "\t2 & 1503960366 & 4/13/2016 & 1797\\\\\n",
       "\t3 & 1503960366 & 4/14/2016 & 1776\\\\\n",
       "\t4 & 1503960366 & 4/15/2016 & 1745\\\\\n",
       "\t5 & 1503960366 & 4/16/2016 & 1863\\\\\n",
       "\t6 & 1503960366 & 4/17/2016 & 1728\\\\\n",
       "\\end{tabular}\n"
      ],
      "text/markdown": [
       "\n",
       "A data.frame: 6 × 3\n",
       "\n",
       "| <!--/--> | Id &lt;dbl&gt; | ActivityDay &lt;chr&gt; | Calories &lt;int&gt; |\n",
       "|---|---|---|---|\n",
       "| 1 | 1503960366 | 4/12/2016 | 1985 |\n",
       "| 2 | 1503960366 | 4/13/2016 | 1797 |\n",
       "| 3 | 1503960366 | 4/14/2016 | 1776 |\n",
       "| 4 | 1503960366 | 4/15/2016 | 1745 |\n",
       "| 5 | 1503960366 | 4/16/2016 | 1863 |\n",
       "| 6 | 1503960366 | 4/17/2016 | 1728 |\n",
       "\n"
      ],
      "text/plain": [
       "  Id         ActivityDay Calories\n",
       "1 1503960366 4/12/2016   1985    \n",
       "2 1503960366 4/13/2016   1797    \n",
       "3 1503960366 4/14/2016   1776    \n",
       "4 1503960366 4/15/2016   1745    \n",
       "5 1503960366 4/16/2016   1863    \n",
       "6 1503960366 4/17/2016   1728    "
      ]
     },
     "metadata": {},
     "output_type": "display_data"
    }
   ],
   "source": [
    "head(daily_calories)"
   ]
  },
  {
   "cell_type": "code",
   "execution_count": 7,
   "id": "b0ca8ab2",
   "metadata": {
    "execution": {
     "iopub.execute_input": "2022-04-16T16:56:18.979996Z",
     "iopub.status.busy": "2022-04-16T16:56:18.978453Z",
     "iopub.status.idle": "2022-04-16T16:56:19.005509Z",
     "shell.execute_reply": "2022-04-16T16:56:19.003911Z"
    },
    "papermill": {
     "duration": 0.125004,
     "end_time": "2022-04-16T16:56:19.005656",
     "exception": false,
     "start_time": "2022-04-16T16:56:18.880652",
     "status": "completed"
    },
    "tags": []
   },
   "outputs": [
    {
     "data": {
      "text/html": [
       "<table class=\"dataframe\">\n",
       "<caption>A data.frame: 6 × 10</caption>\n",
       "<thead>\n",
       "\t<tr><th></th><th scope=col>Id</th><th scope=col>ActivityDay</th><th scope=col>SedentaryMinutes</th><th scope=col>LightlyActiveMinutes</th><th scope=col>FairlyActiveMinutes</th><th scope=col>VeryActiveMinutes</th><th scope=col>SedentaryActiveDistance</th><th scope=col>LightActiveDistance</th><th scope=col>ModeratelyActiveDistance</th><th scope=col>VeryActiveDistance</th></tr>\n",
       "\t<tr><th></th><th scope=col>&lt;dbl&gt;</th><th scope=col>&lt;chr&gt;</th><th scope=col>&lt;int&gt;</th><th scope=col>&lt;int&gt;</th><th scope=col>&lt;int&gt;</th><th scope=col>&lt;int&gt;</th><th scope=col>&lt;dbl&gt;</th><th scope=col>&lt;dbl&gt;</th><th scope=col>&lt;dbl&gt;</th><th scope=col>&lt;dbl&gt;</th></tr>\n",
       "</thead>\n",
       "<tbody>\n",
       "\t<tr><th scope=row>1</th><td>1503960366</td><td>4/12/2016</td><td> 728</td><td>328</td><td>13</td><td>25</td><td>0</td><td>6.06</td><td>0.55</td><td>1.88</td></tr>\n",
       "\t<tr><th scope=row>2</th><td>1503960366</td><td>4/13/2016</td><td> 776</td><td>217</td><td>19</td><td>21</td><td>0</td><td>4.71</td><td>0.69</td><td>1.57</td></tr>\n",
       "\t<tr><th scope=row>3</th><td>1503960366</td><td>4/14/2016</td><td>1218</td><td>181</td><td>11</td><td>30</td><td>0</td><td>3.91</td><td>0.40</td><td>2.44</td></tr>\n",
       "\t<tr><th scope=row>4</th><td>1503960366</td><td>4/15/2016</td><td> 726</td><td>209</td><td>34</td><td>29</td><td>0</td><td>2.83</td><td>1.26</td><td>2.14</td></tr>\n",
       "\t<tr><th scope=row>5</th><td>1503960366</td><td>4/16/2016</td><td> 773</td><td>221</td><td>10</td><td>36</td><td>0</td><td>5.04</td><td>0.41</td><td>2.71</td></tr>\n",
       "\t<tr><th scope=row>6</th><td>1503960366</td><td>4/17/2016</td><td> 539</td><td>164</td><td>20</td><td>38</td><td>0</td><td>2.51</td><td>0.78</td><td>3.19</td></tr>\n",
       "</tbody>\n",
       "</table>\n"
      ],
      "text/latex": [
       "A data.frame: 6 × 10\n",
       "\\begin{tabular}{r|llllllllll}\n",
       "  & Id & ActivityDay & SedentaryMinutes & LightlyActiveMinutes & FairlyActiveMinutes & VeryActiveMinutes & SedentaryActiveDistance & LightActiveDistance & ModeratelyActiveDistance & VeryActiveDistance\\\\\n",
       "  & <dbl> & <chr> & <int> & <int> & <int> & <int> & <dbl> & <dbl> & <dbl> & <dbl>\\\\\n",
       "\\hline\n",
       "\t1 & 1503960366 & 4/12/2016 &  728 & 328 & 13 & 25 & 0 & 6.06 & 0.55 & 1.88\\\\\n",
       "\t2 & 1503960366 & 4/13/2016 &  776 & 217 & 19 & 21 & 0 & 4.71 & 0.69 & 1.57\\\\\n",
       "\t3 & 1503960366 & 4/14/2016 & 1218 & 181 & 11 & 30 & 0 & 3.91 & 0.40 & 2.44\\\\\n",
       "\t4 & 1503960366 & 4/15/2016 &  726 & 209 & 34 & 29 & 0 & 2.83 & 1.26 & 2.14\\\\\n",
       "\t5 & 1503960366 & 4/16/2016 &  773 & 221 & 10 & 36 & 0 & 5.04 & 0.41 & 2.71\\\\\n",
       "\t6 & 1503960366 & 4/17/2016 &  539 & 164 & 20 & 38 & 0 & 2.51 & 0.78 & 3.19\\\\\n",
       "\\end{tabular}\n"
      ],
      "text/markdown": [
       "\n",
       "A data.frame: 6 × 10\n",
       "\n",
       "| <!--/--> | Id &lt;dbl&gt; | ActivityDay &lt;chr&gt; | SedentaryMinutes &lt;int&gt; | LightlyActiveMinutes &lt;int&gt; | FairlyActiveMinutes &lt;int&gt; | VeryActiveMinutes &lt;int&gt; | SedentaryActiveDistance &lt;dbl&gt; | LightActiveDistance &lt;dbl&gt; | ModeratelyActiveDistance &lt;dbl&gt; | VeryActiveDistance &lt;dbl&gt; |\n",
       "|---|---|---|---|---|---|---|---|---|---|---|\n",
       "| 1 | 1503960366 | 4/12/2016 |  728 | 328 | 13 | 25 | 0 | 6.06 | 0.55 | 1.88 |\n",
       "| 2 | 1503960366 | 4/13/2016 |  776 | 217 | 19 | 21 | 0 | 4.71 | 0.69 | 1.57 |\n",
       "| 3 | 1503960366 | 4/14/2016 | 1218 | 181 | 11 | 30 | 0 | 3.91 | 0.40 | 2.44 |\n",
       "| 4 | 1503960366 | 4/15/2016 |  726 | 209 | 34 | 29 | 0 | 2.83 | 1.26 | 2.14 |\n",
       "| 5 | 1503960366 | 4/16/2016 |  773 | 221 | 10 | 36 | 0 | 5.04 | 0.41 | 2.71 |\n",
       "| 6 | 1503960366 | 4/17/2016 |  539 | 164 | 20 | 38 | 0 | 2.51 | 0.78 | 3.19 |\n",
       "\n"
      ],
      "text/plain": [
       "  Id         ActivityDay SedentaryMinutes LightlyActiveMinutes\n",
       "1 1503960366 4/12/2016    728             328                 \n",
       "2 1503960366 4/13/2016    776             217                 \n",
       "3 1503960366 4/14/2016   1218             181                 \n",
       "4 1503960366 4/15/2016    726             209                 \n",
       "5 1503960366 4/16/2016    773             221                 \n",
       "6 1503960366 4/17/2016    539             164                 \n",
       "  FairlyActiveMinutes VeryActiveMinutes SedentaryActiveDistance\n",
       "1 13                  25                0                      \n",
       "2 19                  21                0                      \n",
       "3 11                  30                0                      \n",
       "4 34                  29                0                      \n",
       "5 10                  36                0                      \n",
       "6 20                  38                0                      \n",
       "  LightActiveDistance ModeratelyActiveDistance VeryActiveDistance\n",
       "1 6.06                0.55                     1.88              \n",
       "2 4.71                0.69                     1.57              \n",
       "3 3.91                0.40                     2.44              \n",
       "4 2.83                1.26                     2.14              \n",
       "5 5.04                0.41                     2.71              \n",
       "6 2.51                0.78                     3.19              "
      ]
     },
     "metadata": {},
     "output_type": "display_data"
    }
   ],
   "source": [
    "head(daily_intensity)"
   ]
  },
  {
   "cell_type": "code",
   "execution_count": 8,
   "id": "bc821840",
   "metadata": {
    "execution": {
     "iopub.execute_input": "2022-04-16T16:56:19.199067Z",
     "iopub.status.busy": "2022-04-16T16:56:19.197494Z",
     "iopub.status.idle": "2022-04-16T16:56:19.220162Z",
     "shell.execute_reply": "2022-04-16T16:56:19.218682Z"
    },
    "papermill": {
     "duration": 0.120204,
     "end_time": "2022-04-16T16:56:19.220295",
     "exception": false,
     "start_time": "2022-04-16T16:56:19.100091",
     "status": "completed"
    },
    "tags": []
   },
   "outputs": [
    {
     "data": {
      "text/html": [
       "<table class=\"dataframe\">\n",
       "<caption>A data.frame: 6 × 3</caption>\n",
       "<thead>\n",
       "\t<tr><th></th><th scope=col>Id</th><th scope=col>ActivityDay</th><th scope=col>StepTotal</th></tr>\n",
       "\t<tr><th></th><th scope=col>&lt;dbl&gt;</th><th scope=col>&lt;chr&gt;</th><th scope=col>&lt;int&gt;</th></tr>\n",
       "</thead>\n",
       "<tbody>\n",
       "\t<tr><th scope=row>1</th><td>1503960366</td><td>4/12/2016</td><td>13162</td></tr>\n",
       "\t<tr><th scope=row>2</th><td>1503960366</td><td>4/13/2016</td><td>10735</td></tr>\n",
       "\t<tr><th scope=row>3</th><td>1503960366</td><td>4/14/2016</td><td>10460</td></tr>\n",
       "\t<tr><th scope=row>4</th><td>1503960366</td><td>4/15/2016</td><td> 9762</td></tr>\n",
       "\t<tr><th scope=row>5</th><td>1503960366</td><td>4/16/2016</td><td>12669</td></tr>\n",
       "\t<tr><th scope=row>6</th><td>1503960366</td><td>4/17/2016</td><td> 9705</td></tr>\n",
       "</tbody>\n",
       "</table>\n"
      ],
      "text/latex": [
       "A data.frame: 6 × 3\n",
       "\\begin{tabular}{r|lll}\n",
       "  & Id & ActivityDay & StepTotal\\\\\n",
       "  & <dbl> & <chr> & <int>\\\\\n",
       "\\hline\n",
       "\t1 & 1503960366 & 4/12/2016 & 13162\\\\\n",
       "\t2 & 1503960366 & 4/13/2016 & 10735\\\\\n",
       "\t3 & 1503960366 & 4/14/2016 & 10460\\\\\n",
       "\t4 & 1503960366 & 4/15/2016 &  9762\\\\\n",
       "\t5 & 1503960366 & 4/16/2016 & 12669\\\\\n",
       "\t6 & 1503960366 & 4/17/2016 &  9705\\\\\n",
       "\\end{tabular}\n"
      ],
      "text/markdown": [
       "\n",
       "A data.frame: 6 × 3\n",
       "\n",
       "| <!--/--> | Id &lt;dbl&gt; | ActivityDay &lt;chr&gt; | StepTotal &lt;int&gt; |\n",
       "|---|---|---|---|\n",
       "| 1 | 1503960366 | 4/12/2016 | 13162 |\n",
       "| 2 | 1503960366 | 4/13/2016 | 10735 |\n",
       "| 3 | 1503960366 | 4/14/2016 | 10460 |\n",
       "| 4 | 1503960366 | 4/15/2016 |  9762 |\n",
       "| 5 | 1503960366 | 4/16/2016 | 12669 |\n",
       "| 6 | 1503960366 | 4/17/2016 |  9705 |\n",
       "\n"
      ],
      "text/plain": [
       "  Id         ActivityDay StepTotal\n",
       "1 1503960366 4/12/2016   13162    \n",
       "2 1503960366 4/13/2016   10735    \n",
       "3 1503960366 4/14/2016   10460    \n",
       "4 1503960366 4/15/2016    9762    \n",
       "5 1503960366 4/16/2016   12669    \n",
       "6 1503960366 4/17/2016    9705    "
      ]
     },
     "metadata": {},
     "output_type": "display_data"
    }
   ],
   "source": [
    "head(daily_steps)"
   ]
  },
  {
   "cell_type": "markdown",
   "id": "9f544b64",
   "metadata": {
    "papermill": {
     "duration": 0.096311,
     "end_time": "2022-04-16T16:56:19.413662",
     "exception": false,
     "start_time": "2022-04-16T16:56:19.317351",
     "status": "completed"
    },
    "tags": []
   },
   "source": [
    "The daily_acitivity dataset seems to contain most of the information needed for the analysis and report. Hence, let us compare the other chosen datasets if they contain the same information. We shall ignore them after the comparison."
   ]
  },
  {
   "cell_type": "code",
   "execution_count": 9,
   "id": "3a01e651",
   "metadata": {
    "execution": {
     "iopub.execute_input": "2022-04-16T16:56:19.613206Z",
     "iopub.status.busy": "2022-04-16T16:56:19.611712Z",
     "iopub.status.idle": "2022-04-16T16:56:19.731275Z",
     "shell.execute_reply": "2022-04-16T16:56:19.729890Z"
    },
    "papermill": {
     "duration": 0.22091,
     "end_time": "2022-04-16T16:56:19.731424",
     "exception": false,
     "start_time": "2022-04-16T16:56:19.510514",
     "status": "completed"
    },
    "tags": []
   },
   "outputs": [
    {
     "data": {
      "text/plain": [
       "\n",
       "\n",
       "Table: Summary of data.frames\n",
       "\n",
       "version   arg               ncol   nrow\n",
       "--------  ---------------  -----  -----\n",
       "x         daily_activity      15    940\n",
       "y         daily_calories       3    940\n",
       "\n",
       "\n",
       "\n",
       "Table: Summary of overall comparison\n",
       "\n",
       "statistic                                                      value\n",
       "------------------------------------------------------------  ------\n",
       "Number of by-variables                                             0\n",
       "Number of non-by variables in common                               2\n",
       "Number of variables compared                                       2\n",
       "Number of variables in x but not y                                13\n",
       "Number of variables in y but not x                                 1\n",
       "Number of variables compared with some values unequal              0\n",
       "Number of variables compared with all values equal                 2\n",
       "Number of observations in common                                 940\n",
       "Number of observations in x but not y                              0\n",
       "Number of observations in y but not x                              0\n",
       "Number of observations with some compared variables unequal        0\n",
       "Number of observations with all compared variables equal         940\n",
       "Number of values unequal                                           0\n",
       "\n",
       "\n",
       "\n",
       "Table: Variables not shared\n",
       "\n",
       "version   variable                    position  class     \n",
       "--------  -------------------------  ---------  ----------\n",
       "x         ActivityDate                       2  character \n",
       "x         TotalSteps                         3  integer   \n",
       "x         TotalDistance                      4  numeric   \n",
       "x         TrackerDistance                    5  numeric   \n",
       "x         LoggedActivitiesDistance           6  numeric   \n",
       "x         VeryActiveDistance                 7  numeric   \n",
       "x         ModeratelyActiveDistance           8  numeric   \n",
       "x         LightActiveDistance                9  numeric   \n",
       "x         SedentaryActiveDistance           10  numeric   \n",
       "x         VeryActiveMinutes                 11  integer   \n",
       "x         FairlyActiveMinutes               12  integer   \n",
       "x         LightlyActiveMinutes              13  integer   \n",
       "x         SedentaryMinutes                  14  integer   \n",
       "y         ActivityDay                        2  character \n",
       "\n",
       "\n",
       "\n",
       "Table: Other variables not compared\n",
       "\n",
       "                                 \n",
       " --------------------------------\n",
       " No other variables not compared \n",
       " --------------------------------\n",
       "\n",
       "\n",
       "\n",
       "Table: Observations not shared\n",
       "\n",
       "                            \n",
       " ---------------------------\n",
       " No observations not shared \n",
       " ---------------------------\n",
       "\n",
       "\n",
       "\n",
       "Table: Differences detected by variable\n",
       "\n",
       "var.x      var.y        n   NAs\n",
       "---------  ---------  ---  ----\n",
       "Id         Id           0     0\n",
       "Calories   Calories     0     0\n",
       "\n",
       "\n",
       "\n",
       "Table: Differences detected\n",
       "\n",
       "                         \n",
       " ------------------------\n",
       " No differences detected \n",
       " ------------------------\n",
       "\n",
       "\n",
       "\n",
       "Table: Non-identical attributes\n",
       "\n",
       "                             \n",
       " ----------------------------\n",
       " No non-identical attributes \n",
       " ----------------------------\n"
      ]
     },
     "metadata": {},
     "output_type": "display_data"
    }
   ],
   "source": [
    "#daily_activity vs daily_calories\n",
    "summary(comparedf(daily_activity, daily_calories))"
   ]
  },
  {
   "cell_type": "markdown",
   "id": "5bde79f4",
   "metadata": {
    "papermill": {
     "duration": 0.097915,
     "end_time": "2022-04-16T16:56:19.928646",
     "exception": false,
     "start_time": "2022-04-16T16:56:19.830731",
     "status": "completed"
    },
    "tags": []
   },
   "source": [
    "As per the comparison both Id and Calories columns in daily_calories df have same data as in daily_activity df's Id and Calories columns. Hence **daily_calories** dataset can be **ignored** for further analysis"
   ]
  },
  {
   "cell_type": "code",
   "execution_count": 10,
   "id": "3cdbfcf3",
   "metadata": {
    "execution": {
     "iopub.execute_input": "2022-04-16T16:56:20.129551Z",
     "iopub.status.busy": "2022-04-16T16:56:20.128315Z",
     "iopub.status.idle": "2022-04-16T16:56:20.153990Z",
     "shell.execute_reply": "2022-04-16T16:56:20.152458Z"
    },
    "papermill": {
     "duration": 0.127523,
     "end_time": "2022-04-16T16:56:20.154136",
     "exception": false,
     "start_time": "2022-04-16T16:56:20.026613",
     "status": "completed"
    },
    "tags": []
   },
   "outputs": [],
   "source": [
    "# The ActivityDay column in daily_intensity is same as ActivityDate in daily_activity. Let us rename the column first\n",
    "daily_intensity=rename(daily_intensity, ActivityDate=ActivityDay)"
   ]
  },
  {
   "cell_type": "code",
   "execution_count": 11,
   "id": "a54dcb5f",
   "metadata": {
    "execution": {
     "iopub.execute_input": "2022-04-16T16:56:20.354725Z",
     "iopub.status.busy": "2022-04-16T16:56:20.352588Z",
     "iopub.status.idle": "2022-04-16T16:56:20.372918Z",
     "shell.execute_reply": "2022-04-16T16:56:20.371231Z"
    },
    "papermill": {
     "duration": 0.12196,
     "end_time": "2022-04-16T16:56:20.373072",
     "exception": false,
     "start_time": "2022-04-16T16:56:20.251112",
     "status": "completed"
    },
    "tags": []
   },
   "outputs": [
    {
     "data": {
      "text/html": [
       "<style>\n",
       ".list-inline {list-style: none; margin:0; padding: 0}\n",
       ".list-inline>li {display: inline-block}\n",
       ".list-inline>li:not(:last-child)::after {content: \"\\00b7\"; padding: 0 .5ex}\n",
       "</style>\n",
       "<ol class=list-inline><li>'Id'</li><li>'ActivityDate'</li><li>'SedentaryMinutes'</li><li>'LightlyActiveMinutes'</li><li>'FairlyActiveMinutes'</li><li>'VeryActiveMinutes'</li><li>'SedentaryActiveDistance'</li><li>'LightActiveDistance'</li><li>'ModeratelyActiveDistance'</li><li>'VeryActiveDistance'</li></ol>\n"
      ],
      "text/latex": [
       "\\begin{enumerate*}\n",
       "\\item 'Id'\n",
       "\\item 'ActivityDate'\n",
       "\\item 'SedentaryMinutes'\n",
       "\\item 'LightlyActiveMinutes'\n",
       "\\item 'FairlyActiveMinutes'\n",
       "\\item 'VeryActiveMinutes'\n",
       "\\item 'SedentaryActiveDistance'\n",
       "\\item 'LightActiveDistance'\n",
       "\\item 'ModeratelyActiveDistance'\n",
       "\\item 'VeryActiveDistance'\n",
       "\\end{enumerate*}\n"
      ],
      "text/markdown": [
       "1. 'Id'\n",
       "2. 'ActivityDate'\n",
       "3. 'SedentaryMinutes'\n",
       "4. 'LightlyActiveMinutes'\n",
       "5. 'FairlyActiveMinutes'\n",
       "6. 'VeryActiveMinutes'\n",
       "7. 'SedentaryActiveDistance'\n",
       "8. 'LightActiveDistance'\n",
       "9. 'ModeratelyActiveDistance'\n",
       "10. 'VeryActiveDistance'\n",
       "\n",
       "\n"
      ],
      "text/plain": [
       " [1] \"Id\"                       \"ActivityDate\"            \n",
       " [3] \"SedentaryMinutes\"         \"LightlyActiveMinutes\"    \n",
       " [5] \"FairlyActiveMinutes\"      \"VeryActiveMinutes\"       \n",
       " [7] \"SedentaryActiveDistance\"  \"LightActiveDistance\"     \n",
       " [9] \"ModeratelyActiveDistance\" \"VeryActiveDistance\"      "
      ]
     },
     "metadata": {},
     "output_type": "display_data"
    }
   ],
   "source": [
    "colnames(daily_intensity)"
   ]
  },
  {
   "cell_type": "code",
   "execution_count": 12,
   "id": "0635f321",
   "metadata": {
    "execution": {
     "iopub.execute_input": "2022-04-16T16:56:20.575888Z",
     "iopub.status.busy": "2022-04-16T16:56:20.574328Z",
     "iopub.status.idle": "2022-04-16T16:56:20.637585Z",
     "shell.execute_reply": "2022-04-16T16:56:20.623277Z"
    },
    "papermill": {
     "duration": 0.166383,
     "end_time": "2022-04-16T16:56:20.637752",
     "exception": false,
     "start_time": "2022-04-16T16:56:20.471369",
     "status": "completed"
    },
    "tags": []
   },
   "outputs": [
    {
     "data": {
      "text/plain": [
       "\n",
       "\n",
       "Table: Summary of data.frames\n",
       "\n",
       "version   arg                ncol   nrow\n",
       "--------  ----------------  -----  -----\n",
       "x         daily_intensity      10    940\n",
       "y         daily_activity       15    940\n",
       "\n",
       "\n",
       "\n",
       "Table: Summary of overall comparison\n",
       "\n",
       "statistic                                                      value\n",
       "------------------------------------------------------------  ------\n",
       "Number of by-variables                                             0\n",
       "Number of non-by variables in common                              10\n",
       "Number of variables compared                                      10\n",
       "Number of variables in x but not y                                 0\n",
       "Number of variables in y but not x                                 5\n",
       "Number of variables compared with some values unequal              0\n",
       "Number of variables compared with all values equal                10\n",
       "Number of observations in common                                 940\n",
       "Number of observations in x but not y                              0\n",
       "Number of observations in y but not x                              0\n",
       "Number of observations with some compared variables unequal        0\n",
       "Number of observations with all compared variables equal         940\n",
       "Number of values unequal                                           0\n",
       "\n",
       "\n",
       "\n",
       "Table: Variables not shared\n",
       "\n",
       "version   variable                    position  class   \n",
       "--------  -------------------------  ---------  --------\n",
       "y         TotalSteps                         3  integer \n",
       "y         TotalDistance                      4  numeric \n",
       "y         TrackerDistance                    5  numeric \n",
       "y         LoggedActivitiesDistance           6  numeric \n",
       "y         Calories                          15  integer \n",
       "\n",
       "\n",
       "\n",
       "Table: Other variables not compared\n",
       "\n",
       "                                 \n",
       " --------------------------------\n",
       " No other variables not compared \n",
       " --------------------------------\n",
       "\n",
       "\n",
       "\n",
       "Table: Observations not shared\n",
       "\n",
       "                            \n",
       " ---------------------------\n",
       " No observations not shared \n",
       " ---------------------------\n",
       "\n",
       "\n",
       "\n",
       "Table: Differences detected by variable\n",
       "\n",
       "var.x                      var.y                        n   NAs\n",
       "-------------------------  -------------------------  ---  ----\n",
       "Id                         Id                           0     0\n",
       "ActivityDate               ActivityDate                 0     0\n",
       "SedentaryMinutes           SedentaryMinutes             0     0\n",
       "LightlyActiveMinutes       LightlyActiveMinutes         0     0\n",
       "FairlyActiveMinutes        FairlyActiveMinutes          0     0\n",
       "VeryActiveMinutes          VeryActiveMinutes            0     0\n",
       "SedentaryActiveDistance    SedentaryActiveDistance      0     0\n",
       "LightActiveDistance        LightActiveDistance          0     0\n",
       "ModeratelyActiveDistance   ModeratelyActiveDistance     0     0\n",
       "VeryActiveDistance         VeryActiveDistance           0     0\n",
       "\n",
       "\n",
       "\n",
       "Table: Differences detected\n",
       "\n",
       "                         \n",
       " ------------------------\n",
       " No differences detected \n",
       " ------------------------\n",
       "\n",
       "\n",
       "\n",
       "Table: Non-identical attributes\n",
       "\n",
       "                             \n",
       " ----------------------------\n",
       " No non-identical attributes \n",
       " ----------------------------\n"
      ]
     },
     "metadata": {},
     "output_type": "display_data"
    }
   ],
   "source": [
    "#daily_intensity vs daily_activity\n",
    "summary(comparedf(daily_intensity, daily_activity))"
   ]
  },
  {
   "cell_type": "markdown",
   "id": "c88a0ccd",
   "metadata": {
    "papermill": {
     "duration": 0.101304,
     "end_time": "2022-04-16T16:56:20.839920",
     "exception": false,
     "start_time": "2022-04-16T16:56:20.738616",
     "status": "completed"
    },
    "tags": []
   },
   "source": [
    "As per the comparison, all columns in daily_calories df have same data as in daily_activity df's corresponding 10 columns. Hence **daily_calories** dataset can be **ignored** for further analysis"
   ]
  },
  {
   "cell_type": "code",
   "execution_count": 13,
   "id": "90845478",
   "metadata": {
    "execution": {
     "iopub.execute_input": "2022-04-16T16:56:21.045711Z",
     "iopub.status.busy": "2022-04-16T16:56:21.044204Z",
     "iopub.status.idle": "2022-04-16T16:56:21.067746Z",
     "shell.execute_reply": "2022-04-16T16:56:21.066307Z"
    },
    "papermill": {
     "duration": 0.127843,
     "end_time": "2022-04-16T16:56:21.067884",
     "exception": false,
     "start_time": "2022-04-16T16:56:20.940041",
     "status": "completed"
    },
    "tags": []
   },
   "outputs": [
    {
     "data": {
      "text/html": [
       "<style>\n",
       ".list-inline {list-style: none; margin:0; padding: 0}\n",
       ".list-inline>li {display: inline-block}\n",
       ".list-inline>li:not(:last-child)::after {content: \"\\00b7\"; padding: 0 .5ex}\n",
       "</style>\n",
       "<ol class=list-inline><li>'Id'</li><li>'ActivityDate'</li><li>'TotalSteps'</li></ol>\n"
      ],
      "text/latex": [
       "\\begin{enumerate*}\n",
       "\\item 'Id'\n",
       "\\item 'ActivityDate'\n",
       "\\item 'TotalSteps'\n",
       "\\end{enumerate*}\n"
      ],
      "text/markdown": [
       "1. 'Id'\n",
       "2. 'ActivityDate'\n",
       "3. 'TotalSteps'\n",
       "\n",
       "\n"
      ],
      "text/plain": [
       "[1] \"Id\"           \"ActivityDate\" \"TotalSteps\"  "
      ]
     },
     "metadata": {},
     "output_type": "display_data"
    }
   ],
   "source": [
    "# The ActivityDay column in daily_intensity is same as ActivityDate in daily_activity. Let us rename the column first. Same applies to TotalSteps\n",
    "daily_steps=rename(daily_steps, ActivityDate=ActivityDay)\n",
    "daily_steps=rename(daily_steps, TotalSteps=StepTotal)\n",
    "colnames(daily_steps)"
   ]
  },
  {
   "cell_type": "code",
   "execution_count": 14,
   "id": "3a98d996",
   "metadata": {
    "execution": {
     "iopub.execute_input": "2022-04-16T16:56:21.282843Z",
     "iopub.status.busy": "2022-04-16T16:56:21.281385Z",
     "iopub.status.idle": "2022-04-16T16:56:21.325763Z",
     "shell.execute_reply": "2022-04-16T16:56:21.324386Z"
    },
    "papermill": {
     "duration": 0.151373,
     "end_time": "2022-04-16T16:56:21.325897",
     "exception": false,
     "start_time": "2022-04-16T16:56:21.174524",
     "status": "completed"
    },
    "tags": []
   },
   "outputs": [
    {
     "data": {
      "text/plain": [
       "\n",
       "\n",
       "Table: Summary of data.frames\n",
       "\n",
       "version   arg               ncol   nrow\n",
       "--------  ---------------  -----  -----\n",
       "x         daily_steps          3    940\n",
       "y         daily_activity      15    940\n",
       "\n",
       "\n",
       "\n",
       "Table: Summary of overall comparison\n",
       "\n",
       "statistic                                                      value\n",
       "------------------------------------------------------------  ------\n",
       "Number of by-variables                                             0\n",
       "Number of non-by variables in common                               3\n",
       "Number of variables compared                                       3\n",
       "Number of variables in x but not y                                 0\n",
       "Number of variables in y but not x                                12\n",
       "Number of variables compared with some values unequal              0\n",
       "Number of variables compared with all values equal                 3\n",
       "Number of observations in common                                 940\n",
       "Number of observations in x but not y                              0\n",
       "Number of observations in y but not x                              0\n",
       "Number of observations with some compared variables unequal        0\n",
       "Number of observations with all compared variables equal         940\n",
       "Number of values unequal                                           0\n",
       "\n",
       "\n",
       "\n",
       "Table: Variables not shared\n",
       "\n",
       "version   variable                    position  class   \n",
       "--------  -------------------------  ---------  --------\n",
       "y         TotalDistance                      4  numeric \n",
       "y         TrackerDistance                    5  numeric \n",
       "y         LoggedActivitiesDistance           6  numeric \n",
       "y         VeryActiveDistance                 7  numeric \n",
       "y         ModeratelyActiveDistance           8  numeric \n",
       "y         LightActiveDistance                9  numeric \n",
       "y         SedentaryActiveDistance           10  numeric \n",
       "y         VeryActiveMinutes                 11  integer \n",
       "y         FairlyActiveMinutes               12  integer \n",
       "y         LightlyActiveMinutes              13  integer \n",
       "y         SedentaryMinutes                  14  integer \n",
       "y         Calories                          15  integer \n",
       "\n",
       "\n",
       "\n",
       "Table: Other variables not compared\n",
       "\n",
       "                                 \n",
       " --------------------------------\n",
       " No other variables not compared \n",
       " --------------------------------\n",
       "\n",
       "\n",
       "\n",
       "Table: Observations not shared\n",
       "\n",
       "                            \n",
       " ---------------------------\n",
       " No observations not shared \n",
       " ---------------------------\n",
       "\n",
       "\n",
       "\n",
       "Table: Differences detected by variable\n",
       "\n",
       "var.x          var.y            n   NAs\n",
       "-------------  -------------  ---  ----\n",
       "Id             Id               0     0\n",
       "ActivityDate   ActivityDate     0     0\n",
       "TotalSteps     TotalSteps       0     0\n",
       "\n",
       "\n",
       "\n",
       "Table: Differences detected\n",
       "\n",
       "                         \n",
       " ------------------------\n",
       " No differences detected \n",
       " ------------------------\n",
       "\n",
       "\n",
       "\n",
       "Table: Non-identical attributes\n",
       "\n",
       "                             \n",
       " ----------------------------\n",
       " No non-identical attributes \n",
       " ----------------------------\n"
      ]
     },
     "metadata": {},
     "output_type": "display_data"
    }
   ],
   "source": [
    "#daily_steps vs daily_activity\n",
    "summary(comparedf(daily_steps, daily_activity))"
   ]
  },
  {
   "cell_type": "markdown",
   "id": "6eab944a",
   "metadata": {
    "papermill": {
     "duration": 0.103762,
     "end_time": "2022-04-16T16:56:21.532656",
     "exception": false,
     "start_time": "2022-04-16T16:56:21.428894",
     "status": "completed"
    },
    "tags": []
   },
   "source": [
    "As per comparedf, all columns in daily_steps are identical with daily_activity. Hence, **daily_steps** dataset can be **ignored** for further analysis."
   ]
  },
  {
   "cell_type": "code",
   "execution_count": 15,
   "id": "91683c60",
   "metadata": {
    "execution": {
     "iopub.execute_input": "2022-04-16T16:56:21.744406Z",
     "iopub.status.busy": "2022-04-16T16:56:21.742726Z",
     "iopub.status.idle": "2022-04-16T16:56:42.848980Z",
     "shell.execute_reply": "2022-04-16T16:56:42.847788Z"
    },
    "papermill": {
     "duration": 21.213383,
     "end_time": "2022-04-16T16:56:42.849116",
     "exception": false,
     "start_time": "2022-04-16T16:56:21.635733",
     "status": "completed"
    },
    "tags": []
   },
   "outputs": [],
   "source": [
    "heart_rate <- read.csv('../input/fitbit/Fitabase Data 4.12.16-5.12.16/heartrate_seconds_merged.csv')\n",
    "hourly_calories <- read.csv('../input/fitbit/Fitabase Data 4.12.16-5.12.16/hourlyCalories_merged.csv')\n",
    "hourly_intensities <- read.csv('../input/fitbit/Fitabase Data 4.12.16-5.12.16/hourlyIntensities_merged.csv')\n",
    "hourly_steps <- read.csv('../input/fitbit/Fitabase Data 4.12.16-5.12.16/hourlySteps_merged.csv')\n",
    "minute_calories_narrow <- read.csv('../input/fitbit/Fitabase Data 4.12.16-5.12.16/minuteCaloriesNarrow_merged.csv')\n",
    "minute_calories_wide <- read.csv('../input/fitbit/Fitabase Data 4.12.16-5.12.16/minuteCaloriesWide_merged.csv')\n",
    "minute_intensities_narrow <- read.csv('../input/fitbit/Fitabase Data 4.12.16-5.12.16/minuteIntensitiesNarrow_merged.csv')\n",
    "minute_intensities_wide <- read.csv('../input/fitbit/Fitabase Data 4.12.16-5.12.16/minuteIntensitiesWide_merged.csv')\n",
    "minute_met <- read.csv('../input/fitbit/Fitabase Data 4.12.16-5.12.16/minuteMETsNarrow_merged.csv')\n",
    "minute_sleep <- read.csv('../input/fitbit/Fitabase Data 4.12.16-5.12.16/minuteSleep_merged.csv')\n",
    "minute_steps_narrow <- read.csv('../input/fitbit/Fitabase Data 4.12.16-5.12.16/minuteStepsNarrow_merged.csv')\n",
    "minute_steps_wide <- read.csv('../input/fitbit/Fitabase Data 4.12.16-5.12.16/minuteStepsWide_merged.csv')\n",
    "sleep_day <- read.csv('../input/fitbit/Fitabase Data 4.12.16-5.12.16/sleepDay_merged.csv')\n",
    "weight_log <- read.csv('../input/fitbit/Fitabase Data 4.12.16-5.12.16/weightLogInfo_merged.csv')"
   ]
  },
  {
   "cell_type": "markdown",
   "id": "eb12c0bf",
   "metadata": {
    "papermill": {
     "duration": 0.102335,
     "end_time": "2022-04-16T16:56:43.054791",
     "exception": false,
     "start_time": "2022-04-16T16:56:42.952456",
     "status": "completed"
    },
    "tags": []
   },
   "source": [
    "## <span style=\"color:#FE8F77\">Process</span><a class=\"anchor\" id=\"process\"></a>\n",
    "\n",
    "The process phase is all about preprocessing the data that goes for further analysis. The prepared datasets need to be processed in order to analyse using the **Tableau** application."
   ]
  },
  {
   "cell_type": "markdown",
   "id": "7451c53d",
   "metadata": {
    "papermill": {
     "duration": 0.103631,
     "end_time": "2022-04-16T16:56:43.262797",
     "exception": false,
     "start_time": "2022-04-16T16:56:43.159166",
     "status": "completed"
    },
    "tags": []
   },
   "source": [
    "### Clean the data ###\n",
    "\n",
    "The cleaning process includes:\n",
    "* Removing duplicates\n",
    "* Checking for null values and removing them"
   ]
  },
  {
   "cell_type": "markdown",
   "id": "659b6233",
   "metadata": {
    "papermill": {
     "duration": 0.103572,
     "end_time": "2022-04-16T16:56:43.469466",
     "exception": false,
     "start_time": "2022-04-16T16:56:43.365894",
     "status": "completed"
    },
    "tags": []
   },
   "source": [
    "**Remove Duplicates**"
   ]
  },
  {
   "cell_type": "code",
   "execution_count": 16,
   "id": "3be57a49",
   "metadata": {
    "execution": {
     "iopub.execute_input": "2022-04-16T16:56:43.681406Z",
     "iopub.status.busy": "2022-04-16T16:56:43.679940Z",
     "iopub.status.idle": "2022-04-16T16:57:08.097897Z",
     "shell.execute_reply": "2022-04-16T16:57:08.096571Z"
    },
    "papermill": {
     "duration": 24.525842,
     "end_time": "2022-04-16T16:57:08.098078",
     "exception": false,
     "start_time": "2022-04-16T16:56:43.572236",
     "status": "completed"
    },
    "tags": []
   },
   "outputs": [
    {
     "data": {
      "text/html": [
       "0"
      ],
      "text/latex": [
       "0"
      ],
      "text/markdown": [
       "0"
      ],
      "text/plain": [
       "[1] 0"
      ]
     },
     "metadata": {},
     "output_type": "display_data"
    },
    {
     "data": {
      "text/html": [
       "0"
      ],
      "text/latex": [
       "0"
      ],
      "text/markdown": [
       "0"
      ],
      "text/plain": [
       "[1] 0"
      ]
     },
     "metadata": {},
     "output_type": "display_data"
    },
    {
     "data": {
      "text/html": [
       "0"
      ],
      "text/latex": [
       "0"
      ],
      "text/markdown": [
       "0"
      ],
      "text/plain": [
       "[1] 0"
      ]
     },
     "metadata": {},
     "output_type": "display_data"
    },
    {
     "data": {
      "text/html": [
       "0"
      ],
      "text/latex": [
       "0"
      ],
      "text/markdown": [
       "0"
      ],
      "text/plain": [
       "[1] 0"
      ]
     },
     "metadata": {},
     "output_type": "display_data"
    },
    {
     "data": {
      "text/html": [
       "0"
      ],
      "text/latex": [
       "0"
      ],
      "text/markdown": [
       "0"
      ],
      "text/plain": [
       "[1] 0"
      ]
     },
     "metadata": {},
     "output_type": "display_data"
    },
    {
     "data": {
      "text/html": [
       "0"
      ],
      "text/latex": [
       "0"
      ],
      "text/markdown": [
       "0"
      ],
      "text/plain": [
       "[1] 0"
      ]
     },
     "metadata": {},
     "output_type": "display_data"
    },
    {
     "data": {
      "text/html": [
       "0"
      ],
      "text/latex": [
       "0"
      ],
      "text/markdown": [
       "0"
      ],
      "text/plain": [
       "[1] 0"
      ]
     },
     "metadata": {},
     "output_type": "display_data"
    },
    {
     "data": {
      "text/html": [
       "0"
      ],
      "text/latex": [
       "0"
      ],
      "text/markdown": [
       "0"
      ],
      "text/plain": [
       "[1] 0"
      ]
     },
     "metadata": {},
     "output_type": "display_data"
    },
    {
     "data": {
      "text/html": [
       "0"
      ],
      "text/latex": [
       "0"
      ],
      "text/markdown": [
       "0"
      ],
      "text/plain": [
       "[1] 0"
      ]
     },
     "metadata": {},
     "output_type": "display_data"
    },
    {
     "data": {
      "text/html": [
       "543"
      ],
      "text/latex": [
       "543"
      ],
      "text/markdown": [
       "543"
      ],
      "text/plain": [
       "[1] 543"
      ]
     },
     "metadata": {},
     "output_type": "display_data"
    },
    {
     "data": {
      "text/html": [
       "0"
      ],
      "text/latex": [
       "0"
      ],
      "text/markdown": [
       "0"
      ],
      "text/plain": [
       "[1] 0"
      ]
     },
     "metadata": {},
     "output_type": "display_data"
    },
    {
     "data": {
      "text/html": [
       "0"
      ],
      "text/latex": [
       "0"
      ],
      "text/markdown": [
       "0"
      ],
      "text/plain": [
       "[1] 0"
      ]
     },
     "metadata": {},
     "output_type": "display_data"
    },
    {
     "data": {
      "text/html": [
       "3"
      ],
      "text/latex": [
       "3"
      ],
      "text/markdown": [
       "3"
      ],
      "text/plain": [
       "[1] 3"
      ]
     },
     "metadata": {},
     "output_type": "display_data"
    },
    {
     "data": {
      "text/html": [
       "0"
      ],
      "text/latex": [
       "0"
      ],
      "text/markdown": [
       "0"
      ],
      "text/plain": [
       "[1] 0"
      ]
     },
     "metadata": {},
     "output_type": "display_data"
    }
   ],
   "source": [
    "sum(duplicated(heart_rate))\n",
    "sum(duplicated(hourly_calories))\n",
    "sum(duplicated(hourly_intensities))\n",
    "sum(duplicated(hourly_steps))\n",
    "sum(duplicated(minute_calories_narrow))\n",
    "sum(duplicated(minute_calories_wide))\n",
    "sum(duplicated(minute_intensities_narrow))\n",
    "sum(duplicated(minute_intensities_wide))\n",
    "sum(duplicated(minute_met))\n",
    "sum(duplicated(minute_sleep))\n",
    "sum(duplicated(minute_steps_narrow))\n",
    "sum(duplicated(minute_steps_wide))\n",
    "sum(duplicated(sleep_day))\n",
    "sum(duplicated(weight_log))"
   ]
  },
  {
   "cell_type": "code",
   "execution_count": 17,
   "id": "0029d002",
   "metadata": {
    "execution": {
     "iopub.execute_input": "2022-04-16T16:57:08.360121Z",
     "iopub.status.busy": "2022-04-16T16:57:08.358028Z",
     "iopub.status.idle": "2022-04-16T16:57:08.945146Z",
     "shell.execute_reply": "2022-04-16T16:57:08.943373Z"
    },
    "papermill": {
     "duration": 0.718939,
     "end_time": "2022-04-16T16:57:08.945296",
     "exception": false,
     "start_time": "2022-04-16T16:57:08.226357",
     "status": "completed"
    },
    "tags": []
   },
   "outputs": [
    {
     "data": {
      "text/html": [
       "543"
      ],
      "text/latex": [
       "543"
      ],
      "text/markdown": [
       "543"
      ],
      "text/plain": [
       "[1] 543"
      ]
     },
     "metadata": {},
     "output_type": "display_data"
    },
    {
     "data": {
      "text/html": [
       "3"
      ],
      "text/latex": [
       "3"
      ],
      "text/markdown": [
       "3"
      ],
      "text/plain": [
       "[1] 3"
      ]
     },
     "metadata": {},
     "output_type": "display_data"
    }
   ],
   "source": [
    "sum(duplicated(minute_sleep))\n",
    "sum(duplicated(sleep_day))"
   ]
  },
  {
   "cell_type": "code",
   "execution_count": 18,
   "id": "2029617c",
   "metadata": {
    "execution": {
     "iopub.execute_input": "2022-04-16T16:57:09.213254Z",
     "iopub.status.busy": "2022-04-16T16:57:09.211358Z",
     "iopub.status.idle": "2022-04-16T16:57:09.263264Z",
     "shell.execute_reply": "2022-04-16T16:57:09.261906Z"
    },
    "papermill": {
     "duration": 0.187057,
     "end_time": "2022-04-16T16:57:09.263422",
     "exception": false,
     "start_time": "2022-04-16T16:57:09.076365",
     "status": "completed"
    },
    "tags": []
   },
   "outputs": [],
   "source": [
    "minute_sleep <- minute_sleep %>%\n",
    "  distinct() %>%\n",
    "  drop_na()\n",
    "sleep_day <- sleep_day %>%\n",
    "  distinct() %>%\n",
    "  drop_na()"
   ]
  },
  {
   "cell_type": "code",
   "execution_count": 19,
   "id": "2d2f75e2",
   "metadata": {
    "execution": {
     "iopub.execute_input": "2022-04-16T16:57:09.536656Z",
     "iopub.status.busy": "2022-04-16T16:57:09.535137Z",
     "iopub.status.idle": "2022-04-16T16:57:30.465924Z",
     "shell.execute_reply": "2022-04-16T16:57:30.464469Z"
    },
    "papermill": {
     "duration": 21.068427,
     "end_time": "2022-04-16T16:57:30.466098",
     "exception": false,
     "start_time": "2022-04-16T16:57:09.397671",
     "status": "completed"
    },
    "tags": []
   },
   "outputs": [
    {
     "data": {
      "text/html": [
       "0"
      ],
      "text/latex": [
       "0"
      ],
      "text/markdown": [
       "0"
      ],
      "text/plain": [
       "[1] 0"
      ]
     },
     "metadata": {},
     "output_type": "display_data"
    },
    {
     "data": {
      "text/html": [
       "0"
      ],
      "text/latex": [
       "0"
      ],
      "text/markdown": [
       "0"
      ],
      "text/plain": [
       "[1] 0"
      ]
     },
     "metadata": {},
     "output_type": "display_data"
    },
    {
     "data": {
      "text/html": [
       "0"
      ],
      "text/latex": [
       "0"
      ],
      "text/markdown": [
       "0"
      ],
      "text/plain": [
       "[1] 0"
      ]
     },
     "metadata": {},
     "output_type": "display_data"
    },
    {
     "data": {
      "text/html": [
       "0"
      ],
      "text/latex": [
       "0"
      ],
      "text/markdown": [
       "0"
      ],
      "text/plain": [
       "[1] 0"
      ]
     },
     "metadata": {},
     "output_type": "display_data"
    },
    {
     "data": {
      "text/html": [
       "0"
      ],
      "text/latex": [
       "0"
      ],
      "text/markdown": [
       "0"
      ],
      "text/plain": [
       "[1] 0"
      ]
     },
     "metadata": {},
     "output_type": "display_data"
    },
    {
     "data": {
      "text/html": [
       "0"
      ],
      "text/latex": [
       "0"
      ],
      "text/markdown": [
       "0"
      ],
      "text/plain": [
       "[1] 0"
      ]
     },
     "metadata": {},
     "output_type": "display_data"
    },
    {
     "data": {
      "text/html": [
       "0"
      ],
      "text/latex": [
       "0"
      ],
      "text/markdown": [
       "0"
      ],
      "text/plain": [
       "[1] 0"
      ]
     },
     "metadata": {},
     "output_type": "display_data"
    },
    {
     "data": {
      "text/html": [
       "0"
      ],
      "text/latex": [
       "0"
      ],
      "text/markdown": [
       "0"
      ],
      "text/plain": [
       "[1] 0"
      ]
     },
     "metadata": {},
     "output_type": "display_data"
    },
    {
     "data": {
      "text/html": [
       "0"
      ],
      "text/latex": [
       "0"
      ],
      "text/markdown": [
       "0"
      ],
      "text/plain": [
       "[1] 0"
      ]
     },
     "metadata": {},
     "output_type": "display_data"
    },
    {
     "data": {
      "text/html": [
       "0"
      ],
      "text/latex": [
       "0"
      ],
      "text/markdown": [
       "0"
      ],
      "text/plain": [
       "[1] 0"
      ]
     },
     "metadata": {},
     "output_type": "display_data"
    },
    {
     "data": {
      "text/html": [
       "0"
      ],
      "text/latex": [
       "0"
      ],
      "text/markdown": [
       "0"
      ],
      "text/plain": [
       "[1] 0"
      ]
     },
     "metadata": {},
     "output_type": "display_data"
    },
    {
     "data": {
      "text/html": [
       "0"
      ],
      "text/latex": [
       "0"
      ],
      "text/markdown": [
       "0"
      ],
      "text/plain": [
       "[1] 0"
      ]
     },
     "metadata": {},
     "output_type": "display_data"
    },
    {
     "data": {
      "text/html": [
       "0"
      ],
      "text/latex": [
       "0"
      ],
      "text/markdown": [
       "0"
      ],
      "text/plain": [
       "[1] 0"
      ]
     },
     "metadata": {},
     "output_type": "display_data"
    },
    {
     "data": {
      "text/html": [
       "0"
      ],
      "text/latex": [
       "0"
      ],
      "text/markdown": [
       "0"
      ],
      "text/plain": [
       "[1] 0"
      ]
     },
     "metadata": {},
     "output_type": "display_data"
    }
   ],
   "source": [
    "sum(duplicated(heart_rate))\n",
    "sum(duplicated(hourly_calories))\n",
    "sum(duplicated(hourly_intensities))\n",
    "sum(duplicated(hourly_steps))\n",
    "sum(duplicated(minute_calories_narrow))\n",
    "sum(duplicated(minute_calories_wide))\n",
    "sum(duplicated(minute_intensities_narrow))\n",
    "sum(duplicated(minute_intensities_wide))\n",
    "sum(duplicated(minute_met))\n",
    "sum(duplicated(minute_sleep))\n",
    "sum(duplicated(minute_steps_narrow))\n",
    "sum(duplicated(minute_steps_wide))\n",
    "sum(duplicated(sleep_day))\n",
    "sum(duplicated(weight_log))"
   ]
  },
  {
   "cell_type": "code",
   "execution_count": 20,
   "id": "994ef6f3",
   "metadata": {
    "execution": {
     "iopub.execute_input": "2022-04-16T16:57:30.789715Z",
     "iopub.status.busy": "2022-04-16T16:57:30.788754Z",
     "iopub.status.idle": "2022-04-16T16:57:30.806150Z",
     "shell.execute_reply": "2022-04-16T16:57:30.804410Z"
    },
    "papermill": {
     "duration": 0.181429,
     "end_time": "2022-04-16T16:57:30.806304",
     "exception": false,
     "start_time": "2022-04-16T16:57:30.624875",
     "status": "completed"
    },
    "tags": []
   },
   "outputs": [
    {
     "data": {
      "text/html": [
       "0"
      ],
      "text/latex": [
       "0"
      ],
      "text/markdown": [
       "0"
      ],
      "text/plain": [
       "[1] 0"
      ]
     },
     "metadata": {},
     "output_type": "display_data"
    }
   ],
   "source": [
    "sum(is.na(daily_activity))"
   ]
  },
  {
   "cell_type": "markdown",
   "id": "740d0eb7",
   "metadata": {
    "papermill": {
     "duration": 0.157973,
     "end_time": "2022-04-16T16:57:31.123781",
     "exception": false,
     "start_time": "2022-04-16T16:57:30.965808",
     "status": "completed"
    },
    "tags": []
   },
   "source": [
    "### Transform the data ###\n",
    "This includes transforming the data as per the needs. The transformation is planned as below:\n",
    "* Convert the column names to lower case\n",
    "* Create a date field with date datatype"
   ]
  },
  {
   "cell_type": "markdown",
   "id": "aeef353b",
   "metadata": {
    "papermill": {
     "duration": 0.157303,
     "end_time": "2022-04-16T16:57:31.439013",
     "exception": false,
     "start_time": "2022-04-16T16:57:31.281710",
     "status": "completed"
    },
    "tags": []
   },
   "source": [
    "**Convert columns to lowercase and create a date field**"
   ]
  },
  {
   "cell_type": "code",
   "execution_count": 21,
   "id": "6c41b985",
   "metadata": {
    "execution": {
     "iopub.execute_input": "2022-04-16T16:57:31.758151Z",
     "iopub.status.busy": "2022-04-16T16:57:31.757501Z",
     "iopub.status.idle": "2022-04-16T16:57:39.198043Z",
     "shell.execute_reply": "2022-04-16T16:57:39.196779Z"
    },
    "papermill": {
     "duration": 7.602687,
     "end_time": "2022-04-16T16:57:39.198209",
     "exception": false,
     "start_time": "2022-04-16T16:57:31.595522",
     "status": "completed"
    },
    "tags": []
   },
   "outputs": [],
   "source": [
    "daily_activity <- daily_activity %>%\n",
    "  distinct() %>%\n",
    "  rename_with(tolower) %>%\n",
    "  mutate(date = as.Date(activitydate, format=\"%m/%d/%Y\"))\n",
    "heart_rate <- heart_rate %>%\n",
    "  distinct() %>%\n",
    "  rename_with(tolower) %>%\n",
    "  mutate(date = as.Date(time, format=\"%m/%d/%Y\"))\n",
    "hourly_calories <- hourly_calories %>%\n",
    "  distinct() %>%\n",
    "  rename_with(tolower) %>%\n",
    "  mutate(date = as.Date(activityhour, format=\"%m/%d/%Y\"))\n",
    "hourly_intensities <- hourly_intensities %>%\n",
    "  distinct() %>%\n",
    "  rename_with(tolower) %>%\n",
    "  mutate(date = as.Date(activityhour, format=\"%m/%d/%Y\"))\n",
    "hourly_steps <- hourly_steps %>%\n",
    "  distinct() %>%\n",
    "  rename_with(tolower) %>%\n",
    "  mutate(date = as.Date(activityhour, format=\"%m/%d/%Y\"))\n",
    "minute_calories_narrow <- minute_calories_narrow %>%\n",
    "  distinct() %>%\n",
    "  rename_with(tolower) %>%\n",
    "  mutate(date = as.Date(activityminute, format=\"%m/%d/%Y\"))\n",
    "minute_calories_wide <- minute_calories_wide %>%\n",
    "  distinct() %>%\n",
    "  rename_with(tolower) %>%\n",
    "  mutate(date = as.Date(activityhour, format=\"%m/%d/%Y\"))\n",
    "minute_intensities_narrow <- minute_intensities_narrow %>%\n",
    "  distinct() %>%\n",
    "  rename_with(tolower) %>%\n",
    "  mutate(date = as.Date(activityminute, format=\"%m/%d/%Y\"))\n",
    "minute_calories_wide <- minute_calories_wide %>%\n",
    "  distinct() %>%\n",
    "  rename_with(tolower) %>%\n",
    "  mutate(date = as.Date(activityhour, format=\"%m/%d/%Y\"))\n",
    "minute_met <- minute_met %>%\n",
    "  distinct() %>%\n",
    "  rename_with(tolower) %>%\n",
    "  mutate(date = as.Date(activityminute, format=\"%m/%d/%Y\"))\n",
    "minute_sleep <- minute_sleep %>%\n",
    "  distinct() %>%\n",
    "  rename_with(tolower) %>%\n",
    "  rename(activityminute=date) %>%\n",
    "  mutate(date = as.Date(activityminute, format=\"%m/%d/%Y\"))\n",
    "minute_steps_narrow <- minute_steps_narrow %>%\n",
    "  distinct() %>%\n",
    "  rename_with(tolower) %>%\n",
    "  mutate(date = as.Date(activityminute, format=\"%m/%d/%Y\"))\n",
    "minute_steps_wide <- minute_steps_wide %>%\n",
    "  distinct() %>%\n",
    "  rename_with(tolower) %>%\n",
    "  mutate(date = as.Date(activityhour, format=\"%m/%d/%Y\"))\n",
    "sleep_day <- sleep_day %>%\n",
    "  distinct() %>%\n",
    "  rename_with(tolower) %>%\n",
    "  mutate(date = as.Date(sleepday, format=\"%m/%d/%Y\"))\n",
    "weight_log <- weight_log %>%\n",
    "  distinct() %>%\n",
    "  rename_with(tolower) %>%\n",
    "  rename(activityminute=date) %>%\n",
    "  mutate(date = as.Date(activityminute, format=\"%m/%d/%Y\"))"
   ]
  },
  {
   "cell_type": "markdown",
   "id": "c1fd3f06",
   "metadata": {
    "papermill": {
     "duration": 0.157279,
     "end_time": "2022-04-16T16:57:39.514067",
     "exception": false,
     "start_time": "2022-04-16T16:57:39.356788",
     "status": "completed"
    },
    "tags": []
   },
   "source": [
    "## <span style=\"color:#FE8F77\">Analyze</span><a class=\"anchor\" id=\"analyze\"></a>\n",
    "\n",
    "In this phase, analysis is carried to find trends and relationships. Let us aggregate the data and perform some useful calculations to group the users in different demographics.\n",
    "\n",
    "There are 33 unique users. Each user is defined with a demographic user type based on their usage level and activity level.\n",
    "\n",
    "The calculated usage level and activity level are combined to form below user types:\n",
    "* Super User\n",
    "* Active User\n",
    "* Regular User\n",
    "* Sluggish User\n",
    "* Reluctant User"
   ]
  },
  {
   "cell_type": "code",
   "execution_count": 22,
   "id": "5d710a56",
   "metadata": {
    "execution": {
     "iopub.execute_input": "2022-04-16T16:57:39.831889Z",
     "iopub.status.busy": "2022-04-16T16:57:39.830495Z",
     "iopub.status.idle": "2022-04-16T16:57:39.888146Z",
     "shell.execute_reply": "2022-04-16T16:57:39.887004Z"
    },
    "papermill": {
     "duration": 0.217605,
     "end_time": "2022-04-16T16:57:39.888301",
     "exception": false,
     "start_time": "2022-04-16T16:57:39.670696",
     "status": "completed"
    },
    "tags": []
   },
   "outputs": [],
   "source": [
    "base_user_type <- daily_activity %>%\n",
    "  group_by(id) %>%\n",
    "  summarize(count = n(),\n",
    "            mean = round(mean(totaldistance), 2),\n",
    "            usage_level = factor(case_when(\n",
    "              count <= 7 ~ \"Low\",\n",
    "              count > 7 & count <= 21 ~ \"Medium\",\n",
    "              count > 21 ~ \"High\")),\n",
    "            activity_level = factor(case_when(\n",
    "              mean <= 4 ~ \"Low\",\n",
    "              mean > 4 & mean <= 8 ~ \"Medium\",\n",
    "              mean > 8 ~ \"High\")),\n",
    "            user_type = factor(case_when(\n",
    "              usage_level == \"High\" & activity_level == \"High\" ~ \"Super User\",\n",
    "              usage_level == \"High\" & activity_level == \"Medium\" ~ \"Active User\",\n",
    "              usage_level == \"Medium\" & activity_level == \"Medium\" ~ \"Regular User\",\n",
    "              usage_level == \"High\" & activity_level == \"Low\" ~ \"Sluggish User\",\n",
    "              usage_level == \"Low\" & activity_level == \"Low\" ~ \"Reluctant User\"))\n",
    "            )"
   ]
  },
  {
   "cell_type": "code",
   "execution_count": 23,
   "id": "a680f57e",
   "metadata": {
    "execution": {
     "iopub.execute_input": "2022-04-16T16:57:40.207838Z",
     "iopub.status.busy": "2022-04-16T16:57:40.206414Z",
     "iopub.status.idle": "2022-04-16T16:57:40.247539Z",
     "shell.execute_reply": "2022-04-16T16:57:40.245964Z"
    },
    "papermill": {
     "duration": 0.202538,
     "end_time": "2022-04-16T16:57:40.247697",
     "exception": false,
     "start_time": "2022-04-16T16:57:40.045159",
     "status": "completed"
    },
    "tags": []
   },
   "outputs": [
    {
     "data": {
      "text/html": [
       "<table class=\"dataframe\">\n",
       "<caption>A tibble: 33 × 6</caption>\n",
       "<thead>\n",
       "\t<tr><th scope=col>id</th><th scope=col>count</th><th scope=col>mean</th><th scope=col>usage_level</th><th scope=col>activity_level</th><th scope=col>user_type</th></tr>\n",
       "\t<tr><th scope=col>&lt;dbl&gt;</th><th scope=col>&lt;int&gt;</th><th scope=col>&lt;dbl&gt;</th><th scope=col>&lt;fct&gt;</th><th scope=col>&lt;fct&gt;</th><th scope=col>&lt;fct&gt;</th></tr>\n",
       "</thead>\n",
       "<tbody>\n",
       "\t<tr><td>1503960366</td><td>31</td><td> 7.81</td><td>High  </td><td>Medium</td><td>Active User   </td></tr>\n",
       "\t<tr><td>1624580081</td><td>31</td><td> 3.91</td><td>High  </td><td>Low   </td><td>Sluggish User </td></tr>\n",
       "\t<tr><td>1644430081</td><td>30</td><td> 5.30</td><td>High  </td><td>Medium</td><td>Active User   </td></tr>\n",
       "\t<tr><td>1844505072</td><td>31</td><td> 1.71</td><td>High  </td><td>Low   </td><td>Sluggish User </td></tr>\n",
       "\t<tr><td>1927972279</td><td>31</td><td> 0.63</td><td>High  </td><td>Low   </td><td>Sluggish User </td></tr>\n",
       "\t<tr><td>2022484408</td><td>31</td><td> 8.08</td><td>High  </td><td>High  </td><td>Super User    </td></tr>\n",
       "\t<tr><td>2026352035</td><td>31</td><td> 3.45</td><td>High  </td><td>Low   </td><td>Sluggish User </td></tr>\n",
       "\t<tr><td>2320127002</td><td>31</td><td> 3.19</td><td>High  </td><td>Low   </td><td>Sluggish User </td></tr>\n",
       "\t<tr><td>2347167796</td><td>18</td><td> 6.36</td><td>Medium</td><td>Medium</td><td>Regular User  </td></tr>\n",
       "\t<tr><td>2873212765</td><td>31</td><td> 5.10</td><td>High  </td><td>Medium</td><td>Active User   </td></tr>\n",
       "\t<tr><td>3372868164</td><td>20</td><td> 4.71</td><td>Medium</td><td>Medium</td><td>Regular User  </td></tr>\n",
       "\t<tr><td>3977333714</td><td>30</td><td> 7.52</td><td>High  </td><td>Medium</td><td>Active User   </td></tr>\n",
       "\t<tr><td>4020332650</td><td>31</td><td> 1.63</td><td>High  </td><td>Low   </td><td>Sluggish User </td></tr>\n",
       "\t<tr><td>4057192912</td><td> 4</td><td> 2.86</td><td>Low   </td><td>Low   </td><td>Reluctant User</td></tr>\n",
       "\t<tr><td>4319703577</td><td>31</td><td> 4.89</td><td>High  </td><td>Medium</td><td>Active User   </td></tr>\n",
       "\t<tr><td>4388161847</td><td>31</td><td> 8.39</td><td>High  </td><td>High  </td><td>Super User    </td></tr>\n",
       "\t<tr><td>4445114986</td><td>31</td><td> 3.25</td><td>High  </td><td>Low   </td><td>Sluggish User </td></tr>\n",
       "\t<tr><td>4558609924</td><td>31</td><td> 5.08</td><td>High  </td><td>Medium</td><td>Active User   </td></tr>\n",
       "\t<tr><td>4702921684</td><td>31</td><td> 6.96</td><td>High  </td><td>Medium</td><td>Active User   </td></tr>\n",
       "\t<tr><td>5553957443</td><td>31</td><td> 5.64</td><td>High  </td><td>Medium</td><td>Active User   </td></tr>\n",
       "\t<tr><td>5577150313</td><td>30</td><td> 6.21</td><td>High  </td><td>Medium</td><td>Active User   </td></tr>\n",
       "\t<tr><td>6117666160</td><td>28</td><td> 5.34</td><td>High  </td><td>Medium</td><td>Active User   </td></tr>\n",
       "\t<tr><td>6290855005</td><td>29</td><td> 4.27</td><td>High  </td><td>Medium</td><td>Active User   </td></tr>\n",
       "\t<tr><td>6775888955</td><td>26</td><td> 1.81</td><td>High  </td><td>Low   </td><td>Sluggish User </td></tr>\n",
       "\t<tr><td>6962181067</td><td>31</td><td> 6.59</td><td>High  </td><td>Medium</td><td>Active User   </td></tr>\n",
       "\t<tr><td>7007744171</td><td>26</td><td> 8.02</td><td>High  </td><td>High  </td><td>Super User    </td></tr>\n",
       "\t<tr><td>7086361926</td><td>31</td><td> 6.39</td><td>High  </td><td>Medium</td><td>Active User   </td></tr>\n",
       "\t<tr><td>8053475328</td><td>31</td><td>11.48</td><td>High  </td><td>High  </td><td>Super User    </td></tr>\n",
       "\t<tr><td>8253242879</td><td>19</td><td> 4.67</td><td>Medium</td><td>Medium</td><td>Regular User  </td></tr>\n",
       "\t<tr><td>8378563200</td><td>31</td><td> 6.91</td><td>High  </td><td>Medium</td><td>Active User   </td></tr>\n",
       "\t<tr><td>8583815059</td><td>31</td><td> 5.62</td><td>High  </td><td>Medium</td><td>Active User   </td></tr>\n",
       "\t<tr><td>8792009665</td><td>29</td><td> 1.19</td><td>High  </td><td>Low   </td><td>Sluggish User </td></tr>\n",
       "\t<tr><td>8877689391</td><td>31</td><td>13.21</td><td>High  </td><td>High  </td><td>Super User    </td></tr>\n",
       "</tbody>\n",
       "</table>\n"
      ],
      "text/latex": [
       "A tibble: 33 × 6\n",
       "\\begin{tabular}{llllll}\n",
       " id & count & mean & usage\\_level & activity\\_level & user\\_type\\\\\n",
       " <dbl> & <int> & <dbl> & <fct> & <fct> & <fct>\\\\\n",
       "\\hline\n",
       "\t 1503960366 & 31 &  7.81 & High   & Medium & Active User   \\\\\n",
       "\t 1624580081 & 31 &  3.91 & High   & Low    & Sluggish User \\\\\n",
       "\t 1644430081 & 30 &  5.30 & High   & Medium & Active User   \\\\\n",
       "\t 1844505072 & 31 &  1.71 & High   & Low    & Sluggish User \\\\\n",
       "\t 1927972279 & 31 &  0.63 & High   & Low    & Sluggish User \\\\\n",
       "\t 2022484408 & 31 &  8.08 & High   & High   & Super User    \\\\\n",
       "\t 2026352035 & 31 &  3.45 & High   & Low    & Sluggish User \\\\\n",
       "\t 2320127002 & 31 &  3.19 & High   & Low    & Sluggish User \\\\\n",
       "\t 2347167796 & 18 &  6.36 & Medium & Medium & Regular User  \\\\\n",
       "\t 2873212765 & 31 &  5.10 & High   & Medium & Active User   \\\\\n",
       "\t 3372868164 & 20 &  4.71 & Medium & Medium & Regular User  \\\\\n",
       "\t 3977333714 & 30 &  7.52 & High   & Medium & Active User   \\\\\n",
       "\t 4020332650 & 31 &  1.63 & High   & Low    & Sluggish User \\\\\n",
       "\t 4057192912 &  4 &  2.86 & Low    & Low    & Reluctant User\\\\\n",
       "\t 4319703577 & 31 &  4.89 & High   & Medium & Active User   \\\\\n",
       "\t 4388161847 & 31 &  8.39 & High   & High   & Super User    \\\\\n",
       "\t 4445114986 & 31 &  3.25 & High   & Low    & Sluggish User \\\\\n",
       "\t 4558609924 & 31 &  5.08 & High   & Medium & Active User   \\\\\n",
       "\t 4702921684 & 31 &  6.96 & High   & Medium & Active User   \\\\\n",
       "\t 5553957443 & 31 &  5.64 & High   & Medium & Active User   \\\\\n",
       "\t 5577150313 & 30 &  6.21 & High   & Medium & Active User   \\\\\n",
       "\t 6117666160 & 28 &  5.34 & High   & Medium & Active User   \\\\\n",
       "\t 6290855005 & 29 &  4.27 & High   & Medium & Active User   \\\\\n",
       "\t 6775888955 & 26 &  1.81 & High   & Low    & Sluggish User \\\\\n",
       "\t 6962181067 & 31 &  6.59 & High   & Medium & Active User   \\\\\n",
       "\t 7007744171 & 26 &  8.02 & High   & High   & Super User    \\\\\n",
       "\t 7086361926 & 31 &  6.39 & High   & Medium & Active User   \\\\\n",
       "\t 8053475328 & 31 & 11.48 & High   & High   & Super User    \\\\\n",
       "\t 8253242879 & 19 &  4.67 & Medium & Medium & Regular User  \\\\\n",
       "\t 8378563200 & 31 &  6.91 & High   & Medium & Active User   \\\\\n",
       "\t 8583815059 & 31 &  5.62 & High   & Medium & Active User   \\\\\n",
       "\t 8792009665 & 29 &  1.19 & High   & Low    & Sluggish User \\\\\n",
       "\t 8877689391 & 31 & 13.21 & High   & High   & Super User    \\\\\n",
       "\\end{tabular}\n"
      ],
      "text/markdown": [
       "\n",
       "A tibble: 33 × 6\n",
       "\n",
       "| id &lt;dbl&gt; | count &lt;int&gt; | mean &lt;dbl&gt; | usage_level &lt;fct&gt; | activity_level &lt;fct&gt; | user_type &lt;fct&gt; |\n",
       "|---|---|---|---|---|---|\n",
       "| 1503960366 | 31 |  7.81 | High   | Medium | Active User    |\n",
       "| 1624580081 | 31 |  3.91 | High   | Low    | Sluggish User  |\n",
       "| 1644430081 | 30 |  5.30 | High   | Medium | Active User    |\n",
       "| 1844505072 | 31 |  1.71 | High   | Low    | Sluggish User  |\n",
       "| 1927972279 | 31 |  0.63 | High   | Low    | Sluggish User  |\n",
       "| 2022484408 | 31 |  8.08 | High   | High   | Super User     |\n",
       "| 2026352035 | 31 |  3.45 | High   | Low    | Sluggish User  |\n",
       "| 2320127002 | 31 |  3.19 | High   | Low    | Sluggish User  |\n",
       "| 2347167796 | 18 |  6.36 | Medium | Medium | Regular User   |\n",
       "| 2873212765 | 31 |  5.10 | High   | Medium | Active User    |\n",
       "| 3372868164 | 20 |  4.71 | Medium | Medium | Regular User   |\n",
       "| 3977333714 | 30 |  7.52 | High   | Medium | Active User    |\n",
       "| 4020332650 | 31 |  1.63 | High   | Low    | Sluggish User  |\n",
       "| 4057192912 |  4 |  2.86 | Low    | Low    | Reluctant User |\n",
       "| 4319703577 | 31 |  4.89 | High   | Medium | Active User    |\n",
       "| 4388161847 | 31 |  8.39 | High   | High   | Super User     |\n",
       "| 4445114986 | 31 |  3.25 | High   | Low    | Sluggish User  |\n",
       "| 4558609924 | 31 |  5.08 | High   | Medium | Active User    |\n",
       "| 4702921684 | 31 |  6.96 | High   | Medium | Active User    |\n",
       "| 5553957443 | 31 |  5.64 | High   | Medium | Active User    |\n",
       "| 5577150313 | 30 |  6.21 | High   | Medium | Active User    |\n",
       "| 6117666160 | 28 |  5.34 | High   | Medium | Active User    |\n",
       "| 6290855005 | 29 |  4.27 | High   | Medium | Active User    |\n",
       "| 6775888955 | 26 |  1.81 | High   | Low    | Sluggish User  |\n",
       "| 6962181067 | 31 |  6.59 | High   | Medium | Active User    |\n",
       "| 7007744171 | 26 |  8.02 | High   | High   | Super User     |\n",
       "| 7086361926 | 31 |  6.39 | High   | Medium | Active User    |\n",
       "| 8053475328 | 31 | 11.48 | High   | High   | Super User     |\n",
       "| 8253242879 | 19 |  4.67 | Medium | Medium | Regular User   |\n",
       "| 8378563200 | 31 |  6.91 | High   | Medium | Active User    |\n",
       "| 8583815059 | 31 |  5.62 | High   | Medium | Active User    |\n",
       "| 8792009665 | 29 |  1.19 | High   | Low    | Sluggish User  |\n",
       "| 8877689391 | 31 | 13.21 | High   | High   | Super User     |\n",
       "\n"
      ],
      "text/plain": [
       "   id         count mean  usage_level activity_level user_type     \n",
       "1  1503960366 31     7.81 High        Medium         Active User   \n",
       "2  1624580081 31     3.91 High        Low            Sluggish User \n",
       "3  1644430081 30     5.30 High        Medium         Active User   \n",
       "4  1844505072 31     1.71 High        Low            Sluggish User \n",
       "5  1927972279 31     0.63 High        Low            Sluggish User \n",
       "6  2022484408 31     8.08 High        High           Super User    \n",
       "7  2026352035 31     3.45 High        Low            Sluggish User \n",
       "8  2320127002 31     3.19 High        Low            Sluggish User \n",
       "9  2347167796 18     6.36 Medium      Medium         Regular User  \n",
       "10 2873212765 31     5.10 High        Medium         Active User   \n",
       "11 3372868164 20     4.71 Medium      Medium         Regular User  \n",
       "12 3977333714 30     7.52 High        Medium         Active User   \n",
       "13 4020332650 31     1.63 High        Low            Sluggish User \n",
       "14 4057192912  4     2.86 Low         Low            Reluctant User\n",
       "15 4319703577 31     4.89 High        Medium         Active User   \n",
       "16 4388161847 31     8.39 High        High           Super User    \n",
       "17 4445114986 31     3.25 High        Low            Sluggish User \n",
       "18 4558609924 31     5.08 High        Medium         Active User   \n",
       "19 4702921684 31     6.96 High        Medium         Active User   \n",
       "20 5553957443 31     5.64 High        Medium         Active User   \n",
       "21 5577150313 30     6.21 High        Medium         Active User   \n",
       "22 6117666160 28     5.34 High        Medium         Active User   \n",
       "23 6290855005 29     4.27 High        Medium         Active User   \n",
       "24 6775888955 26     1.81 High        Low            Sluggish User \n",
       "25 6962181067 31     6.59 High        Medium         Active User   \n",
       "26 7007744171 26     8.02 High        High           Super User    \n",
       "27 7086361926 31     6.39 High        Medium         Active User   \n",
       "28 8053475328 31    11.48 High        High           Super User    \n",
       "29 8253242879 19     4.67 Medium      Medium         Regular User  \n",
       "30 8378563200 31     6.91 High        Medium         Active User   \n",
       "31 8583815059 31     5.62 High        Medium         Active User   \n",
       "32 8792009665 29     1.19 High        Low            Sluggish User \n",
       "33 8877689391 31    13.21 High        High           Super User    "
      ]
     },
     "metadata": {},
     "output_type": "display_data"
    }
   ],
   "source": [
    "base_user_type"
   ]
  },
  {
   "cell_type": "code",
   "execution_count": 24,
   "id": "0fad8f6f",
   "metadata": {
    "execution": {
     "iopub.execute_input": "2022-04-16T16:57:40.569233Z",
     "iopub.status.busy": "2022-04-16T16:57:40.567388Z",
     "iopub.status.idle": "2022-04-16T16:57:40.585380Z",
     "shell.execute_reply": "2022-04-16T16:57:40.583957Z"
    },
    "papermill": {
     "duration": 0.180383,
     "end_time": "2022-04-16T16:57:40.585566",
     "exception": false,
     "start_time": "2022-04-16T16:57:40.405183",
     "status": "completed"
    },
    "tags": []
   },
   "outputs": [],
   "source": [
    "#Combining daily_activity with base_user_type\n",
    "daily_activity_combined <- merge(daily_activity, base_user_type, by=\"id\")"
   ]
  },
  {
   "cell_type": "code",
   "execution_count": 25,
   "id": "1dab4fc7",
   "metadata": {
    "execution": {
     "iopub.execute_input": "2022-04-16T16:57:40.909056Z",
     "iopub.status.busy": "2022-04-16T16:57:40.906976Z",
     "iopub.status.idle": "2022-04-16T16:57:41.512042Z",
     "shell.execute_reply": "2022-04-16T16:57:41.510703Z"
    },
    "papermill": {
     "duration": 0.769073,
     "end_time": "2022-04-16T16:57:41.512202",
     "exception": false,
     "start_time": "2022-04-16T16:57:40.743129",
     "status": "completed"
    },
    "tags": []
   },
   "outputs": [
    {
     "data": {
      "image/png": "[encoded data removed]"
     },
     "metadata": {
      "image/png": {
       "height": 420,
       "width": 420
      }
     },
     "output_type": "display_data"
    }
   ],
   "source": [
    "daily_activity_combined %>%\n",
    "group_by(user_type) %>%\n",
    "summarise(total = n()) %>%\n",
    "mutate(totals = sum(total)) %>%\n",
    "group_by(user_type) %>%\n",
    "summarise(total_percent = total / totals,\n",
    "         label = scales::percent(total_percent)) %>%\n",
    "ggplot(aes(x=\"\",y=total_percent, fill=user_type)) +\n",
    "  geom_bar(stat=\"identity\", width=1)+\n",
    "  coord_polar(\"y\") +\n",
    "  theme_void()+\n",
    "  geom_text(aes(y=total_percent, label=label), position = position_stack(vjust = 0.5))+\n",
    "  labs(title=\"User Type Distribution\") +\n",
    "  theme(plot.title = element_text(size = 20))"
   ]
  },
  {
   "cell_type": "markdown",
   "id": "47ff50b4",
   "metadata": {
    "papermill": {
     "duration": 0.15954,
     "end_time": "2022-04-16T16:57:41.831950",
     "exception": false,
     "start_time": "2022-04-16T16:57:41.672410",
     "status": "completed"
    },
    "tags": []
   },
   "source": [
    "**Observation:** \n",
    "* There are more number of active users than other users. The reluctant users accurately 0.43% who share less data having less activity\n",
    "* This shows that there is a need of user engagement"
   ]
  },
  {
   "cell_type": "code",
   "execution_count": 26,
   "id": "9ec1bdf8",
   "metadata": {
    "execution": {
     "iopub.execute_input": "2022-04-16T16:57:42.158747Z",
     "iopub.status.busy": "2022-04-16T16:57:42.157312Z",
     "iopub.status.idle": "2022-04-16T16:57:43.376119Z",
     "shell.execute_reply": "2022-04-16T16:57:43.376588Z"
    },
    "papermill": {
     "duration": 1.384366,
     "end_time": "2022-04-16T16:57:43.376750",
     "exception": false,
     "start_time": "2022-04-16T16:57:41.992384",
     "status": "completed"
    },
    "tags": []
   },
   "outputs": [
    {
     "name": "stderr",
     "output_type": "stream",
     "text": [
      "`geom_smooth()` using method = 'loess' and formula 'y ~ x'\n",
      "\n"
     ]
    },
    {
     "data": {
      "image/png": "[encoded data removed]"
     },
     "metadata": {
      "image/png": {
       "height": 420,
       "width": 420
      }
     },
     "output_type": "display_data"
    }
   ],
   "source": [
    "ggplot(daily_activity_combined) +\n",
    "  geom_point(mapping = aes(x=totaldistance, y=calories))+\n",
    "  geom_smooth(aes(x=totaldistance, y=calories))+\n",
    "  labs(title=\"Calories Burnt vs Distance covered\") +\n",
    "  theme(plot.title = element_text(size=20))"
   ]
  },
  {
   "cell_type": "markdown",
   "id": "410a9beb",
   "metadata": {
    "papermill": {
     "duration": 0.167503,
     "end_time": "2022-04-16T16:57:43.712462",
     "exception": false,
     "start_time": "2022-04-16T16:57:43.544959",
     "status": "completed"
    },
    "tags": []
   },
   "source": [
    "**Observation:** There seems to be a strong correlation between calories burnt and the distance covered by each user"
   ]
  },
  {
   "cell_type": "code",
   "execution_count": 27,
   "id": "765b759f",
   "metadata": {
    "execution": {
     "iopub.execute_input": "2022-04-16T16:57:44.053678Z",
     "iopub.status.busy": "2022-04-16T16:57:44.051661Z",
     "iopub.status.idle": "2022-04-16T16:57:44.070247Z",
     "shell.execute_reply": "2022-04-16T16:57:44.068606Z"
    },
    "papermill": {
     "duration": 0.189765,
     "end_time": "2022-04-16T16:57:44.070393",
     "exception": false,
     "start_time": "2022-04-16T16:57:43.880628",
     "status": "completed"
    },
    "tags": []
   },
   "outputs": [],
   "source": [
    "# Let us add a column for understanding the weekdays\n",
    "daily_activity_combined <- daily_activity_combined %>%\n",
    "  mutate(day = weekdays(date))"
   ]
  },
  {
   "cell_type": "code",
   "execution_count": 28,
   "id": "f48b7c82",
   "metadata": {
    "execution": {
     "iopub.execute_input": "2022-04-16T16:57:44.412207Z",
     "iopub.status.busy": "2022-04-16T16:57:44.410136Z",
     "iopub.status.idle": "2022-04-16T16:57:44.430313Z",
     "shell.execute_reply": "2022-04-16T16:57:44.428662Z"
    },
    "papermill": {
     "duration": 0.19208,
     "end_time": "2022-04-16T16:57:44.430482",
     "exception": false,
     "start_time": "2022-04-16T16:57:44.238402",
     "status": "completed"
    },
    "tags": []
   },
   "outputs": [
    {
     "data": {
      "text/html": [
       "<style>\n",
       ".list-inline {list-style: none; margin:0; padding: 0}\n",
       ".list-inline>li {display: inline-block}\n",
       ".list-inline>li:not(:last-child)::after {content: \"\\00b7\"; padding: 0 .5ex}\n",
       "</style>\n",
       "<ol class=list-inline><li>'id'</li><li>'activitydate'</li><li>'totalsteps'</li><li>'totaldistance'</li><li>'trackerdistance'</li><li>'loggedactivitiesdistance'</li><li>'veryactivedistance'</li><li>'moderatelyactivedistance'</li><li>'lightactivedistance'</li><li>'sedentaryactivedistance'</li><li>'veryactiveminutes'</li><li>'fairlyactiveminutes'</li><li>'lightlyactiveminutes'</li><li>'sedentaryminutes'</li><li>'calories'</li><li>'date'</li><li>'count'</li><li>'mean'</li><li>'usage_level'</li><li>'activity_level'</li><li>'user_type'</li><li>'day'</li></ol>\n"
      ],
      "text/latex": [
       "\\begin{enumerate*}\n",
       "\\item 'id'\n",
       "\\item 'activitydate'\n",
       "\\item 'totalsteps'\n",
       "\\item 'totaldistance'\n",
       "\\item 'trackerdistance'\n",
       "\\item 'loggedactivitiesdistance'\n",
       "\\item 'veryactivedistance'\n",
       "\\item 'moderatelyactivedistance'\n",
       "\\item 'lightactivedistance'\n",
       "\\item 'sedentaryactivedistance'\n",
       "\\item 'veryactiveminutes'\n",
       "\\item 'fairlyactiveminutes'\n",
       "\\item 'lightlyactiveminutes'\n",
       "\\item 'sedentaryminutes'\n",
       "\\item 'calories'\n",
       "\\item 'date'\n",
       "\\item 'count'\n",
       "\\item 'mean'\n",
       "\\item 'usage\\_level'\n",
       "\\item 'activity\\_level'\n",
       "\\item 'user\\_type'\n",
       "\\item 'day'\n",
       "\\end{enumerate*}\n"
      ],
      "text/markdown": [
       "1. 'id'\n",
       "2. 'activitydate'\n",
       "3. 'totalsteps'\n",
       "4. 'totaldistance'\n",
       "5. 'trackerdistance'\n",
       "6. 'loggedactivitiesdistance'\n",
       "7. 'veryactivedistance'\n",
       "8. 'moderatelyactivedistance'\n",
       "9. 'lightactivedistance'\n",
       "10. 'sedentaryactivedistance'\n",
       "11. 'veryactiveminutes'\n",
       "12. 'fairlyactiveminutes'\n",
       "13. 'lightlyactiveminutes'\n",
       "14. 'sedentaryminutes'\n",
       "15. 'calories'\n",
       "16. 'date'\n",
       "17. 'count'\n",
       "18. 'mean'\n",
       "19. 'usage_level'\n",
       "20. 'activity_level'\n",
       "21. 'user_type'\n",
       "22. 'day'\n",
       "\n",
       "\n"
      ],
      "text/plain": [
       " [1] \"id\"                       \"activitydate\"            \n",
       " [3] \"totalsteps\"               \"totaldistance\"           \n",
       " [5] \"trackerdistance\"          \"loggedactivitiesdistance\"\n",
       " [7] \"veryactivedistance\"       \"moderatelyactivedistance\"\n",
       " [9] \"lightactivedistance\"      \"sedentaryactivedistance\" \n",
       "[11] \"veryactiveminutes\"        \"fairlyactiveminutes\"     \n",
       "[13] \"lightlyactiveminutes\"     \"sedentaryminutes\"        \n",
       "[15] \"calories\"                 \"date\"                    \n",
       "[17] \"count\"                    \"mean\"                    \n",
       "[19] \"usage_level\"              \"activity_level\"          \n",
       "[21] \"user_type\"                \"day\"                     "
      ]
     },
     "metadata": {},
     "output_type": "display_data"
    }
   ],
   "source": [
    "colnames(daily_activity_combined)"
   ]
  },
  {
   "cell_type": "code",
   "execution_count": 29,
   "id": "6079f29a",
   "metadata": {
    "execution": {
     "iopub.execute_input": "2022-04-16T16:57:44.775558Z",
     "iopub.status.busy": "2022-04-16T16:57:44.773380Z",
     "iopub.status.idle": "2022-04-16T16:57:45.155890Z",
     "shell.execute_reply": "2022-04-16T16:57:45.155204Z"
    },
    "papermill": {
     "duration": 0.555828,
     "end_time": "2022-04-16T16:57:45.156023",
     "exception": false,
     "start_time": "2022-04-16T16:57:44.600195",
     "status": "completed"
    },
    "tags": []
   },
   "outputs": [
    {
     "data": {
      "image/png": "[encoded data removed]"
     },
     "metadata": {
      "image/png": {
       "height": 420,
       "width": 420
      }
     },
     "output_type": "display_data"
    }
   ],
   "source": [
    "daily_activity_combined %>%\n",
    "  group_by(day) %>%\n",
    "  summarize(avg_steps = mean(totalsteps)) %>%\n",
    "  ggplot() + \n",
    "  geom_col(aes(day, avg_steps, fill=day)) + \n",
    "  labs(title=\"Average Steps by weekdays\") +\n",
    "  theme(plot.title = element_text(size=20))"
   ]
  },
  {
   "cell_type": "markdown",
   "id": "9f3305b3",
   "metadata": {
    "papermill": {
     "duration": 0.17121,
     "end_time": "2022-04-16T16:57:45.519257",
     "exception": false,
     "start_time": "2022-04-16T16:57:45.348047",
     "status": "completed"
    },
    "tags": []
   },
   "source": [
    "**Observation:** \n",
    "* There are records of less steps taken during sundays. Hence, there is an increase in sedentary level at this time. \n",
    "* Also, users tend to take more steps in tuesdays and saturdays"
   ]
  },
  {
   "cell_type": "code",
   "execution_count": 30,
   "id": "141bb7a3",
   "metadata": {
    "execution": {
     "iopub.execute_input": "2022-04-16T16:57:45.869741Z",
     "iopub.status.busy": "2022-04-16T16:57:45.867611Z",
     "iopub.status.idle": "2022-04-16T16:57:45.890836Z",
     "shell.execute_reply": "2022-04-16T16:57:45.889036Z"
    },
    "papermill": {
     "duration": 0.201723,
     "end_time": "2022-04-16T16:57:45.890998",
     "exception": false,
     "start_time": "2022-04-16T16:57:45.689275",
     "status": "completed"
    },
    "tags": []
   },
   "outputs": [
    {
     "data": {
      "text/html": [
       "<style>\n",
       ".list-inline {list-style: none; margin:0; padding: 0}\n",
       ".list-inline>li {display: inline-block}\n",
       ".list-inline>li:not(:last-child)::after {content: \"\\00b7\"; padding: 0 .5ex}\n",
       "</style>\n",
       "<ol class=list-inline><li>'id'</li><li>'sleepday'</li><li>'totalsleeprecords'</li><li>'totalminutesasleep'</li><li>'totaltimeinbed'</li><li>'date'</li><li>'count'</li><li>'mean'</li><li>'usage_level'</li><li>'activity_level'</li><li>'user_type'</li></ol>\n"
      ],
      "text/latex": [
       "\\begin{enumerate*}\n",
       "\\item 'id'\n",
       "\\item 'sleepday'\n",
       "\\item 'totalsleeprecords'\n",
       "\\item 'totalminutesasleep'\n",
       "\\item 'totaltimeinbed'\n",
       "\\item 'date'\n",
       "\\item 'count'\n",
       "\\item 'mean'\n",
       "\\item 'usage\\_level'\n",
       "\\item 'activity\\_level'\n",
       "\\item 'user\\_type'\n",
       "\\end{enumerate*}\n"
      ],
      "text/markdown": [
       "1. 'id'\n",
       "2. 'sleepday'\n",
       "3. 'totalsleeprecords'\n",
       "4. 'totalminutesasleep'\n",
       "5. 'totaltimeinbed'\n",
       "6. 'date'\n",
       "7. 'count'\n",
       "8. 'mean'\n",
       "9. 'usage_level'\n",
       "10. 'activity_level'\n",
       "11. 'user_type'\n",
       "\n",
       "\n"
      ],
      "text/plain": [
       " [1] \"id\"                 \"sleepday\"           \"totalsleeprecords\" \n",
       " [4] \"totalminutesasleep\" \"totaltimeinbed\"     \"date\"              \n",
       " [7] \"count\"              \"mean\"               \"usage_level\"       \n",
       "[10] \"activity_level\"     \"user_type\"         "
      ]
     },
     "metadata": {},
     "output_type": "display_data"
    }
   ],
   "source": [
    "sleep_combined <- merge(sleep_day, base_user_type, by=\"id\")\n",
    "colnames(sleep_combined)"
   ]
  },
  {
   "cell_type": "code",
   "execution_count": 31,
   "id": "e675da0f",
   "metadata": {
    "execution": {
     "iopub.execute_input": "2022-04-16T16:57:46.246195Z",
     "iopub.status.busy": "2022-04-16T16:57:46.244068Z",
     "iopub.status.idle": "2022-04-16T16:57:46.554033Z",
     "shell.execute_reply": "2022-04-16T16:57:46.552470Z"
    },
    "papermill": {
     "duration": 0.488719,
     "end_time": "2022-04-16T16:57:46.554172",
     "exception": false,
     "start_time": "2022-04-16T16:57:46.065453",
     "status": "completed"
    },
    "tags": []
   },
   "outputs": [
    {
     "data": {
      "image/png": "[encoded data removed]"
     },
     "metadata": {
      "image/png": {
       "height": 420,
       "width": 420
      }
     },
     "output_type": "display_data"
    }
   ],
   "source": [
    "sleep_combined %>%\n",
    "  group_by(user_type) %>%\n",
    "  summarize(avg_sleep = mean(totalsleeprecords)) %>%\n",
    "  ggplot() + \n",
    "  geom_col(aes(user_type, avg_sleep, fill=user_type)) + \n",
    "  labs(title=\"Average sleep by user type\") +\n",
    "  theme(plot.title = element_text(size=20))"
   ]
  },
  {
   "cell_type": "markdown",
   "id": "72b35a58",
   "metadata": {
    "papermill": {
     "duration": 0.176073,
     "end_time": "2022-04-16T16:57:46.904418",
     "exception": false,
     "start_time": "2022-04-16T16:57:46.728345",
     "status": "completed"
    },
    "tags": []
   },
   "source": [
    "**Observation:**\n",
    "* Reluctant users did not record their sleep time\n",
    "* Super users seem to have more sleep time than other users"
   ]
  },
  {
   "cell_type": "markdown",
   "id": "a51e47e9",
   "metadata": {
    "papermill": {
     "duration": 0.175266,
     "end_time": "2022-04-16T16:57:47.256848",
     "exception": false,
     "start_time": "2022-04-16T16:57:47.081582",
     "status": "completed"
    },
    "tags": []
   },
   "source": [
    "\n",
    "\n",
    "\n",
    "\n"
   ]
  },
  {
   "cell_type": "markdown",
   "id": "38fe497e",
   "metadata": {
    "papermill": {
     "duration": 0.175722,
     "end_time": "2022-04-16T16:57:47.610283",
     "exception": false,
     "start_time": "2022-04-16T16:57:47.434561",
     "status": "completed"
    },
    "tags": []
   },
   "source": [
    "## <span style=\"color:#FE8F77\">Share</span><a class=\"anchor\" id=\"share\"></a>\n",
    "\n",
    "A detailed analysis with recommendations are published in tableau public website. This is intended to accomplish share phase in data analytics. The slides will give more insights to the analysis.\n",
    "\n",
    "https://public.tableau.com/app/profile/dhanalakshmi8752/viz/Bellabeat-CaseStudy_16500383994520/Slides"
   ]
  },
  {
   "cell_type": "markdown",
   "id": "195cb241",
   "metadata": {
    "papermill": {
     "duration": 0.176568,
     "end_time": "2022-04-16T16:57:47.961479",
     "exception": false,
     "start_time": "2022-04-16T16:57:47.784911",
     "status": "completed"
    },
    "tags": []
   },
   "source": [
    "## <span style=\"color:#FE8F77\">Act</span><a class=\"anchor\" id=\"act\"></a>\n",
    "\n",
    "**Key Take Aways:**\n",
    "* There are inconsistencies in the user engagement\n",
    "* Regular, sluggish and reluctant users are maintaining the typical sedentary level in burning calories irrespective of their walking and sleep patterns\n",
    "* There is a strong correlation between matobolism and burnt calories\n",
    "* Super users burn calories significantly higher than the average sedentary level (1800) while reluctant users are on the contrary\n",
    "\n",
    "**Recommendations:**\n",
    "* Bellabeat can provide customized services for different category of users\n",
    "          * Super users - motivate them by offering advanced fitness tips and expert coaching\n",
    "          * Active users - have a system to alarm them during sedentary minutes, conduct awareness sessions to increase activity levels\n",
    "         * Regular users / Sluggish users / Reluctant users - conduct awareness sessions, notifications / alerts, offer rewards for active usage"
   ]
  },
  {
   "cell_type": "markdown",
   "id": "d224027a",
   "metadata": {
    "papermill": {
     "duration": 0.174548,
     "end_time": "2022-04-16T16:57:48.312008",
     "exception": false,
     "start_time": "2022-04-16T16:57:48.137460",
     "status": "completed"
    },
    "tags": []
   },
   "source": [
    "**Thank you for reading till the end. Hope the analysis helps with some insights**"
   ]
  }
 ],
 "metadata": {
  "kernelspec": {
   "display_name": "R",
   "language": "R",
   "name": "ir"
  },
  "language_info": {
   "codemirror_mode": "r",
   "file_extension": ".r",
   "mimetype": "text/x-r-source",
   "name": "R",
   "pygments_lexer": "r",
   "version": "4.0.5"
  },
  "papermill": {
   "default_parameters": {},
   "duration": 136.73355,
   "end_time": "2022-04-16T16:57:48.696846",
   "environment_variables": {},
   "exception": null,
   "input_path": "__notebook__.ipynb",
   "output_path": "__notebook__.ipynb",
   "parameters": {},
   "start_time": "2022-04-16T16:55:31.963296",
   "version": "2.3.3"
  }
 },
 "nbformat": 4,
 "nbformat_minor": 5
}
